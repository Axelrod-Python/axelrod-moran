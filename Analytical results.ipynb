{
 "cells": [
  {
   "cell_type": "code",
   "execution_count": 29,
   "metadata": {
    "collapsed": true
   },
   "outputs": [],
   "source": [
    "import pandas as pd\n",
    "import numpy as np\n",
    "import axelrod as axl\n",
    "import pathlib \n",
    "import math"
   ]
  },
  {
   "cell_type": "markdown",
   "metadata": {},
   "source": [
    "# Data\n",
    "\n",
    "The file `outcomes.csv` contains a full set of outcomes of match results between all strategies in the library."
   ]
  },
  {
   "cell_type": "code",
   "execution_count": 2,
   "metadata": {
    "collapsed": false,
    "scrolled": true
   },
   "outputs": [],
   "source": [
    "df = pd.read_csv(\"outcomes_10000.csv\", header=None)\n",
    "df.columns = [\"strategy 1\", \"strategy 2\", \"score 1\", \"score 2\", \"count\"]"
   ]
  },
  {
   "cell_type": "code",
   "execution_count": 3,
   "metadata": {
    "collapsed": false
   },
   "outputs": [
    {
     "data": {
      "text/html": [
       "<div>\n",
       "<table border=\"1\" class=\"dataframe\">\n",
       "  <thead>\n",
       "    <tr style=\"text-align: right;\">\n",
       "      <th></th>\n",
       "      <th>score 1</th>\n",
       "      <th>score 2</th>\n",
       "      <th>count</th>\n",
       "    </tr>\n",
       "  </thead>\n",
       "  <tbody>\n",
       "    <tr>\n",
       "      <th>count</th>\n",
       "      <td>2.305486e+06</td>\n",
       "      <td>2.305486e+06</td>\n",
       "      <td>2.305486e+06</td>\n",
       "    </tr>\n",
       "    <tr>\n",
       "      <th>mean</th>\n",
       "      <td>2.179908e+00</td>\n",
       "      <td>2.278338e+00</td>\n",
       "      <td>1.910012e+01</td>\n",
       "    </tr>\n",
       "    <tr>\n",
       "      <th>std</th>\n",
       "      <td>7.342048e-01</td>\n",
       "      <td>8.566840e-01</td>\n",
       "      <td>2.463772e+02</td>\n",
       "    </tr>\n",
       "    <tr>\n",
       "      <th>min</th>\n",
       "      <td>0.000000e+00</td>\n",
       "      <td>0.000000e+00</td>\n",
       "      <td>1.000000e+00</td>\n",
       "    </tr>\n",
       "    <tr>\n",
       "      <th>25%</th>\n",
       "      <td>1.705000e+00</td>\n",
       "      <td>1.635000e+00</td>\n",
       "      <td>1.000000e+00</td>\n",
       "    </tr>\n",
       "    <tr>\n",
       "      <th>50%</th>\n",
       "      <td>2.155000e+00</td>\n",
       "      <td>2.305000e+00</td>\n",
       "      <td>2.000000e+00</td>\n",
       "    </tr>\n",
       "    <tr>\n",
       "      <th>75%</th>\n",
       "      <td>2.595000e+00</td>\n",
       "      <td>2.885000e+00</td>\n",
       "      <td>7.000000e+00</td>\n",
       "    </tr>\n",
       "    <tr>\n",
       "      <th>max</th>\n",
       "      <td>5.000000e+00</td>\n",
       "      <td>5.000000e+00</td>\n",
       "      <td>1.000000e+04</td>\n",
       "    </tr>\n",
       "  </tbody>\n",
       "</table>\n",
       "</div>"
      ],
      "text/plain": [
       "            score 1       score 2         count\n",
       "count  2.305486e+06  2.305486e+06  2.305486e+06\n",
       "mean   2.179908e+00  2.278338e+00  1.910012e+01\n",
       "std    7.342048e-01  8.566840e-01  2.463772e+02\n",
       "min    0.000000e+00  0.000000e+00  1.000000e+00\n",
       "25%    1.705000e+00  1.635000e+00  1.000000e+00\n",
       "50%    2.155000e+00  2.305000e+00  2.000000e+00\n",
       "75%    2.595000e+00  2.885000e+00  7.000000e+00\n",
       "max    5.000000e+00  5.000000e+00  1.000000e+04"
      ]
     },
     "execution_count": 3,
     "metadata": {},
     "output_type": "execute_result"
    }
   ],
   "source": [
    "df.describe()"
   ]
  },
  {
   "cell_type": "markdown",
   "metadata": {},
   "source": [
    "Creating a dictionary `utilities` that maps a tuple of strategy names to the mean utility for that matchup:"
   ]
  },
  {
   "cell_type": "code",
   "execution_count": 4,
   "metadata": {
    "collapsed": false
   },
   "outputs": [],
   "source": [
    "utilities = {pair: (f[\"score 1\"].mean(), f[\"score 2\"].mean()) \n",
    "             for pair, f in df.groupby([\"strategy 1\", \"strategy 2\"])}"
   ]
  },
  {
   "cell_type": "markdown",
   "metadata": {},
   "source": [
    "For example we see that a `Cooperator` recieves a payoff of 0 against a `Defector` (which recieves a payoff of 5):"
   ]
  },
  {
   "cell_type": "code",
   "execution_count": 5,
   "metadata": {
    "collapsed": false
   },
   "outputs": [
    {
     "data": {
      "text/plain": [
       "(0.0, 5.0)"
      ]
     },
     "execution_count": 5,
     "metadata": {},
     "output_type": "execute_result"
    }
   ],
   "source": [
    "utilities['Cooperator', 'Defector']"
   ]
  },
  {
   "cell_type": "markdown",
   "metadata": {},
   "source": [
    "For random strategies we have the expected payoffs, for example here we see `Cooperator` vs `Random: 0.5`. We see that `Random:0.5` gets a mean utility of 4, which is (as expected the mean between 5 and 3."
   ]
  },
  {
   "cell_type": "code",
   "execution_count": 6,
   "metadata": {
    "collapsed": false
   },
   "outputs": [
    {
     "data": {
      "text/plain": [
       "(1.5077884615384616, 3.9948076923076927)"
      ]
     },
     "execution_count": 6,
     "metadata": {},
     "output_type": "execute_result"
    }
   ],
   "source": [
    "utilities['Cooperator', 'Random: 0.5']"
   ]
  },
  {
   "cell_type": "markdown",
   "metadata": {},
   "source": [
    "Here is a function to get these scores out in matrix form $M$:\n",
    "\n",
    "$$\n",
    "M = \\begin{pmatrix}\n",
    "a & b \\\\\n",
    "c & d\n",
    "\\end{pmatrix}\n",
    "$$\n",
    "\n",
    "Where:\n",
    "\n",
    "- $a$: the utility of the first strategy encountering the first strategy;\n",
    "- $b$: the utility of the first strategy encountering the second strategy;\n",
    "- $c$: the utility of the second strategy encountering the first strategy;\n",
    "- $d$: the utility of the second strategy encountering the second strategy;"
   ]
  },
  {
   "cell_type": "code",
   "execution_count": 7,
   "metadata": {
    "collapsed": true
   },
   "outputs": [],
   "source": [
    "def scores(strategy_pair, utilities=utilities):\n",
    "    \"\"\"\n",
    "    Return the fitness scores:\n",
    "    \n",
    "        [a, b]\n",
    "        [c, d]\n",
    "    \n",
    "    for a pair of strategies, in a population of N individuals \n",
    "    with i individuals of the first type.\n",
    "    \"\"\"\n",
    "    try:\n",
    "        s1, s2 = strategy_pair\n",
    "        m = np.array([[utilities[(s1, s1)][0], utilities[(s1, s2)][0]], \n",
    "                           [utilities[(s1, s2)][1], utilities[(s2, s2)][0]]])\n",
    "    except KeyError:\n",
    "        s2, s1 = strategy_pair\n",
    "        m = np.array([[utilities[(s2, s2)][0], utilities[(s1, s2)][1]], \n",
    "                           [utilities[(s1, s2)][0], utilities[(s1, s1)][0]]])\n",
    "    return m"
   ]
  },
  {
   "cell_type": "code",
   "execution_count": 8,
   "metadata": {
    "collapsed": false
   },
   "outputs": [
    {
     "data": {
      "text/plain": [
       "array([[ 1.,  5.],\n",
       "       [ 0.,  3.]])"
      ]
     },
     "execution_count": 8,
     "metadata": {},
     "output_type": "execute_result"
    }
   ],
   "source": [
    "scores((\"Defector\", \"Cooperator\"))"
   ]
  },
  {
   "cell_type": "markdown",
   "metadata": {},
   "source": [
    "Note that $M$ is order dependent:"
   ]
  },
  {
   "cell_type": "code",
   "execution_count": 9,
   "metadata": {
    "collapsed": false
   },
   "outputs": [
    {
     "data": {
      "text/plain": [
       "array([[ 3.,  0.],\n",
       "       [ 5.,  1.]])"
      ]
     },
     "execution_count": 9,
     "metadata": {},
     "output_type": "execute_result"
    }
   ],
   "source": [
    "scores((\"Cooperator\", \"Defector\"))"
   ]
  },
  {
   "cell_type": "markdown",
   "metadata": {},
   "source": [
    "Using the we can compute the fitness for both strategies in a population of $N$ individuals within which there are $i$ individuals of the first type.\n",
    "\n",
    "From [Nowak's: 'Evolutionary Dynamics'](https://www.amazon.co.uk/Evolutionary-Dynamics-Exploring-Equations-Life-x/dp/0674023382/ref=sr_1_1?ie=UTF8&qid=1479311303&sr=8-1&keywords=evolutionary+dynamics) these fitness values are given as $F_i$ (for the first strategy) and $G_i$ (for the second):\n",
    "\n",
    "$$\n",
    "F_i = \\frac{a(i-1) + b(N-i)}{N-1}\n",
    "$$\n",
    "\n",
    "\n",
    "and \n",
    "\n",
    "$$\n",
    "G_i = \\frac{ci + d(N-i-1)}{N-1}\n",
    "$$\n",
    "\n",
    "This can be seen for $F_i$ as:\n",
    "\n",
    "- The probability that a strategy of the first type encounters a strategy of the first type is $\\frac{i - 1}{N - 1}$\n",
    "- The probability that a strategy of the first type encounters a strategy of the second type is $\\frac{N - i}{N - 1}$\n",
    "\n",
    "Further to this and assuming $$\\omega$$ corresponds to the intensity of selection. There are two transformations of the fitness scores that are used below:\n",
    "\n",
    "\"Nowak\" fitness:\n",
    "\n",
    "$$\n",
    "f_i = 1 + \\omega(F_i - 1) \n",
    "$$\n",
    "\n",
    "$$\n",
    "g_i = 1 + \\omega(G_i - 1) \n",
    "$$\n",
    "\n",
    "\"Fermi\" fitness:\n",
    "\n",
    "\n",
    "$$\n",
    "f_i = \\frac{e^{\\omega F_i}}{e^{\\omega F_i} + e^{\\omega G_i}}\n",
    "$$\n",
    "\n",
    "$$\n",
    "g_i = \\frac{e^{\\omega G_i}}{e^{\\omega F_i} + e^{\\omega G_i}}\n",
    "$$\n"
   ]
  },
  {
   "cell_type": "code",
   "execution_count": 10,
   "metadata": {
    "collapsed": false
   },
   "outputs": [],
   "source": [
    "def fitness(strategy_pair, N, i, utilities=utilities):\n",
    "    \"\"\"\n",
    "    Return the nowak fitness of a strategy pair in a population with \n",
    "    N total individuals and i individuals of the first type.\n",
    "    \"\"\"\n",
    "    m = scores(strategy_pair, utilities)    \n",
    "    \n",
    "    f = (m[0, 0] * (i - 1) + m[0, 1] * (N - i)) / (N - 1)\n",
    "    g = (m[1, 0] * i + m[1, 1] * (N - i - 1)) / (N - 1)\n",
    "    \n",
    "    return f, g\n",
    "\n",
    "def nowak_fitness(strategy_pair, N, i, utilities=utilities, selection_intensity=1):\n",
    "    \"\"\"\n",
    "    Return the nowak fitness of a strategy pair in a population with \n",
    "    N total individuals and i individuals of the first type.\n",
    "    \"\"\"\n",
    "    F, G = [1 + selection_intensity * (k - 1) for k in fitness(strategy_pair, N, i, utilities)]\n",
    "    \n",
    "    return F, G\n",
    "\n",
    "def fermi_fitness(strategy_pair, N, i, utilities=utilities, selection_intensity=1):\n",
    "    \"\"\"\n",
    "    Return the fermi fitness of a strategy pair in a population with \n",
    "    N total individuals and i individuals of the first type.\n",
    "    \"\"\"\n",
    "    F, G = [math.exp(k) for k in fitness(strategy_pair, N, i, utilities)] \n",
    "    \n",
    "    return F / (F + G), G / (F + G)"
   ]
  },
  {
   "cell_type": "markdown",
   "metadata": {},
   "source": [
    "Using this we can verify that a single `Defector` with 4 `Cooperator`s would have a fitness of 5. (They would only ever meet a `Cooperator` and would thus obtain a utility of 5. Similary, $3/4$s of the time, a `Cooperator` would obtain a utility of 3, and $1/4$s of the time a utility of 0."
   ]
  },
  {
   "cell_type": "code",
   "execution_count": 11,
   "metadata": {
    "collapsed": false
   },
   "outputs": [
    {
     "data": {
      "text/plain": [
       "((5.0, 2.25), (2.25, 5.0))"
      ]
     },
     "execution_count": 11,
     "metadata": {},
     "output_type": "execute_result"
    }
   ],
   "source": [
    "# Calculating these in the two equivalent ways:\n",
    "nowak_fitness((\"Defector\", \"Cooperator\"), 5, 1), nowak_fitness((\"Cooperator\", \"Defector\"), 5, 4)"
   ]
  },
  {
   "cell_type": "code",
   "execution_count": 12,
   "metadata": {
    "collapsed": false
   },
   "outputs": [
    {
     "data": {
      "text/plain": [
       "((0.9399133498259924, 0.060086650174007626),\n",
       " (0.060086650174007626, 0.9399133498259924))"
      ]
     },
     "execution_count": 12,
     "metadata": {},
     "output_type": "execute_result"
    }
   ],
   "source": [
    "fermi_fitness((\"Defector\", \"Cooperator\"), 5, 1), fermi_fitness((\"Cooperator\", \"Defector\"), 5, 4)"
   ]
  },
  {
   "cell_type": "markdown",
   "metadata": {},
   "source": [
    "Similary, a single `Cooperator` in a population of `Defector`s would only ever meet a `Defector` thus obtaining a utility of 0. The `Defector`s would obtain a utility of 1, $3/4$s of the time, and a utility of 5 $1/4$ of the time."
   ]
  },
  {
   "cell_type": "code",
   "execution_count": 13,
   "metadata": {
    "collapsed": false
   },
   "outputs": [
    {
     "data": {
      "text/plain": [
       "((2.0, 0.0), (0.0, 2.0))"
      ]
     },
     "execution_count": 13,
     "metadata": {},
     "output_type": "execute_result"
    }
   ],
   "source": [
    "# Calculating these in the two equivalent ways:\n",
    "nowak_fitness((\"Defector\", \"Cooperator\"), 5, 4), nowak_fitness((\"Cooperator\", \"Defector\"), 5, 1)"
   ]
  },
  {
   "cell_type": "markdown",
   "metadata": {},
   "source": [
    "Using this fitness function we can now obtain the transition probabilities:\n",
    "\n",
    "- $p_{i,i+1}$: the probability of having 1 more individual of the first type;\n",
    "- $p_{i,i-1}$: the probability of having 1 less individual of the first type;\n",
    "- $p_{ii}$: the probability of no change.\n",
    "\n",
    "From [Nowak's Evolutionary Dynamics](https://www.amazon.co.uk/Evolutionary-Dynamics-Exploring-Equations-Life-x/dp/0674023382/ref=sr_1_1?ie=UTF8&qid=1479311303&sr=8-1&keywords=evolutionary+dynamics) we have:\n",
    "\n",
    "$$\n",
    "p_{i, i+1}= \\frac{if_i}{if_i+(N-i)g_i}\\frac{N-i}{N}\n",
    "$$\n",
    "\n",
    "$$\n",
    "p_{i, i-1}= \\frac{(N-i)g_i}{if_i+(N-i)g_i}\\frac{i}{N}\n",
    "$$\n",
    "\n",
    "$$\n",
    "p_{ii} = 1 - p_{i, i+1} - p_{i, i-1}\n",
    "$$\n",
    "\n",
    "These probability transitions correspond the probability of a given individual being chosen for 'death' as well as  the probability of a given type of individual for 'birth' (the latter is in effect a normalisation of the fitness)."
   ]
  },
  {
   "cell_type": "code",
   "execution_count": 14,
   "metadata": {
    "collapsed": false
   },
   "outputs": [],
   "source": [
    "def transition(strategy_pair, N, i, utilities=utilities, fitness_type=\"nowak\", selection_intensity=1):\n",
    "    \"\"\"\n",
    "    Return the 3 transition probabilities:\n",
    "    \n",
    "    P[i, i - 1]\n",
    "    P[i, i]\n",
    "    P[i, i + 1]\n",
    "    \n",
    "    Assuming: \n",
    "     - a given stratgy pair, \n",
    "     - a given total population size N\n",
    "     - and a state i (the number of individuals of the first type)\n",
    "    \"\"\"\n",
    "    fitness_types = {\"nowak\": nowak_fitness, \"fermi\": fermi_fitness}\n",
    "    fitness = fitness_types[fitness_type]\n",
    "    fit = fitness(strategy_pair, N, i, utilities=utilities, selection_intensity=selection_intensity)\n",
    "    \n",
    "    p_up = (fit[0] * i / (fit[0] * i + fit[1] * (N - i))) * ((N - i) / N)\n",
    "    \n",
    "    p_down = (fit[1] * (N - i) / (fit[0] * i + fit[1] * (N - i))) * (i / N)\n",
    "    \n",
    "    p_stay = 1 - p_up - p_down\n",
    "    return p_down, p_stay, p_up"
   ]
  },
  {
   "cell_type": "markdown",
   "metadata": {},
   "source": [
    "Here we see the transition probabilities $p_{i, i-1}, p_{ii}, p_{i, i+1}$ for the case of 2 `Defector`s with 3 `Cooperator`s:"
   ]
  },
  {
   "cell_type": "code",
   "execution_count": 15,
   "metadata": {
    "collapsed": false
   },
   "outputs": [
    {
     "data": {
      "text/plain": [
       "((0.14399999999999999, 0.47199999999999998, 0.38400000000000001),\n",
       " (0.14399999999999999, 0.47199999999999998, 0.38400000000000001))"
      ]
     },
     "execution_count": 15,
     "metadata": {},
     "output_type": "execute_result"
    }
   ],
   "source": [
    "# Calculating these in the two equivalent ways:\n",
    "transition((\"Defector\", \"Cooperator\"), 5, 2), transition((\"Cooperator\", \"Defector\"), 5, 3)[::-1]"
   ]
  },
  {
   "cell_type": "code",
   "execution_count": 16,
   "metadata": {
    "collapsed": false
   },
   "outputs": [
    {
     "data": {
      "text/plain": [
       "((0.04385165465617728, 0.42192582732808864, 0.5342225180157341),\n",
       " (0.04385165465617728, 0.4219258273280887, 0.5342225180157341))"
      ]
     },
     "execution_count": 16,
     "metadata": {},
     "output_type": "execute_result"
    }
   ],
   "source": [
    "# Calculating these in the two equivalent ways:\n",
    "transition((\"Defector\", \"Cooperator\"), 5, 2, fitness_type=\"fermi\"), transition((\"Cooperator\", \"Defector\"), 5, 3, fitness_type=\"fermi\")[::-1]"
   ]
  },
  {
   "cell_type": "markdown",
   "metadata": {},
   "source": [
    "Here we see the transition probabilities $p_{i, i-1}, p_{ii}, p_{i, i+1}$ for the case of 4 `Defector`s with 1 `Cooperator`:"
   ]
  },
  {
   "cell_type": "code",
   "execution_count": 17,
   "metadata": {
    "collapsed": false
   },
   "outputs": [
    {
     "data": {
      "text/plain": [
       "((0.0, 0.80000000000000004, 0.20000000000000001),\n",
       " (0.0, 0.80000000000000004, 0.20000000000000001))"
      ]
     },
     "execution_count": 17,
     "metadata": {},
     "output_type": "execute_result"
    }
   ],
   "source": [
    "transition((\"Defector\", \"Cooperator\"), 5, 4), transition((\"Cooperator\", \"Defector\"), 5, 1)[::-1]"
   ]
  },
  {
   "cell_type": "code",
   "execution_count": 18,
   "metadata": {
    "collapsed": false
   },
   "outputs": [
    {
     "data": {
      "text/plain": [
       "((0.026181245092308843, 0.7803640661807684, 0.1934546887269228),\n",
       " (0.026181245092308843, 0.7803640661807684, 0.1934546887269228))"
      ]
     },
     "execution_count": 18,
     "metadata": {},
     "output_type": "execute_result"
    }
   ],
   "source": [
    "transition((\"Defector\", \"Cooperator\"), 5, 4, fitness_type=\"fermi\"), transition((\"Cooperator\", \"Defector\"), 5, 1, fitness_type=\"fermi\")[::-1]"
   ]
  },
  {
   "cell_type": "markdown",
   "metadata": {},
   "source": [
    "Indeed in that particular case, because the score of the `Cooperator` against a population of `Defector` is 0 there is a zero probability of the number of `Cooperator`s increasing."
   ]
  },
  {
   "cell_type": "markdown",
   "metadata": {},
   "source": [
    "Let $x_i$ be the fixation probability of the first strategy in a population of $i$ individuals of the first type (and $N-i$ individuals of the second. We have:\n",
    "\n",
    "$$\n",
    "x_i = \\frac{1 + \\sum_{j=1}^{i-1}\\prod_{k=1}^{j}\\gamma_j}{1 + \\sum_{j=1}^{N-1}\\prod_{k=1}^{j}\\gamma_j}\n",
    "$$\n",
    "\n",
    "where:\n",
    "\n",
    "$$\n",
    "\\gamma_j = \\frac{p_{j, j-1}}{p_{j, j+1}}\n",
    "$$"
   ]
  },
  {
   "cell_type": "code",
   "execution_count": 19,
   "metadata": {
    "collapsed": true
   },
   "outputs": [],
   "source": [
    "# Using Marc's code with a modification \n",
    "# (just so that it fits with what I've \n",
    "# done so far but not precious about this)\n",
    "\n",
    "def fixation(strategy_pair, N, i=1, utilities=utilities, fitness_type=\"nowak\", selection_intensity=1):\n",
    "    \"\"\"Return the fixation probability for each pair\"\"\"\n",
    "    ratios = []\n",
    "    for j in range(1, N): # ignore first and last transitions, which are likely zero\n",
    "        p_down, _, p_up = transition(strategy_pair, N, i=j, utilities=utilities, \n",
    "                                     fitness_type=fitness_type, selection_intensity=selection_intensity)\n",
    "        ratios.append(p_down / p_up)\n",
    "    t = np.cumprod(ratios)\n",
    "    s = np.cumsum(t)\n",
    "    if i > 1:\n",
    "        return (1 + s[i - 2]) / (1 + s[-1])\n",
    "    return 1 / (1 + s[-1])"
   ]
  },
  {
   "cell_type": "markdown",
   "metadata": {},
   "source": [
    "We see that a single `Defector` has a $.6$ fixation probability in a population of `Cooperators`:"
   ]
  },
  {
   "cell_type": "code",
   "execution_count": 20,
   "metadata": {
    "collapsed": false
   },
   "outputs": [
    {
     "data": {
      "text/plain": [
       "(0.6020696142991534, 0.93475126242870255)"
      ]
     },
     "execution_count": 20,
     "metadata": {},
     "output_type": "execute_result"
    }
   ],
   "source": [
    "fixation((\"Defector\", \"Cooperator\"), 5), fixation((\"Defector\", \"Cooperator\"), 5, fitness_type=\"fermi\"), "
   ]
  },
  {
   "cell_type": "markdown",
   "metadata": {},
   "source": [
    "There is however, 0 chance of fixation for a single `Cooperator`:"
   ]
  },
  {
   "cell_type": "code",
   "execution_count": 21,
   "metadata": {
    "collapsed": false
   },
   "outputs": [
    {
     "data": {
      "text/plain": [
       "0.0"
      ]
     },
     "execution_count": 21,
     "metadata": {},
     "output_type": "execute_result"
    }
   ],
   "source": [
    "fixation((\"Cooperator\", \"Defector\"), 5)"
   ]
  },
  {
   "cell_type": "markdown",
   "metadata": {},
   "source": [
    "This is not true using \"fermi\" fitness:"
   ]
  },
  {
   "cell_type": "code",
   "execution_count": 22,
   "metadata": {
    "collapsed": false
   },
   "outputs": [
    {
     "data": {
      "text/plain": [
       "6.996784248262662e-05"
      ]
     },
     "execution_count": 22,
     "metadata": {},
     "output_type": "execute_result"
    }
   ],
   "source": [
    "fixation((\"Cooperator\", \"Defector\"), 5, fitness_type=\"fermi\")"
   ]
  },
  {
   "cell_type": "markdown",
   "metadata": {},
   "source": [
    "Note that when 4 `Cooperator`s enter a population of a single `Defector` with full selection intensity then we get errors in the calculation:"
   ]
  },
  {
   "cell_type": "code",
   "execution_count": 23,
   "metadata": {
    "collapsed": false
   },
   "outputs": [
    {
     "data": {
      "text/plain": [
       "nan"
      ]
     },
     "execution_count": 23,
     "metadata": {},
     "output_type": "execute_result"
    }
   ],
   "source": [
    "fixation((\"Cooperator\", \"Defector\"), 5, 4)"
   ]
  },
  {
   "cell_type": "markdown",
   "metadata": {},
   "source": [
    "This can be addressed by modifying the selection intensity:"
   ]
  },
  {
   "cell_type": "code",
   "execution_count": 24,
   "metadata": {
    "collapsed": false
   },
   "outputs": [
    {
     "data": {
      "text/plain": [
       "(0.40384315652613711, 0.40384315652613711)"
      ]
     },
     "execution_count": 24,
     "metadata": {},
     "output_type": "execute_result"
    }
   ],
   "source": [
    "# Calculating this using two approaches to get the same result.\n",
    "selection_intensity=.95\n",
    "fixation((\"Cooperator\", \"Defector\"), 5, 4, selection_intensity=selection_intensity), 1 - fixation((\"Defector\", \"Cooperator\"), 5, selection_intensity=selection_intensity)"
   ]
  },
  {
   "cell_type": "markdown",
   "metadata": {},
   "source": [
    "Or by using \"fermi\" fitness:"
   ]
  },
  {
   "cell_type": "code",
   "execution_count": 25,
   "metadata": {
    "collapsed": false
   },
   "outputs": [
    {
     "data": {
      "text/plain": [
       "0.06524873757129733"
      ]
     },
     "execution_count": 25,
     "metadata": {},
     "output_type": "execute_result"
    }
   ],
   "source": [
    "fixation((\"Cooperator\", \"Defector\"), 5, 4, fitness_type=\"fermi\")"
   ]
  },
  {
   "cell_type": "markdown",
   "metadata": {},
   "source": [
    "For strategy pairs where we have non zero scores for both players we have the expected behaviour:"
   ]
  },
  {
   "cell_type": "code",
   "execution_count": 26,
   "metadata": {
    "collapsed": false
   },
   "outputs": [
    {
     "data": {
      "text/plain": [
       "(0.020044052863436124, 0.020044052863436024)"
      ]
     },
     "execution_count": 26,
     "metadata": {},
     "output_type": "execute_result"
    }
   ],
   "source": [
    "fixation((\"Alternator\", \"Defector\"), 5), 1 - fixation((\"Defector\", \"Alternator\"), 5, 4)"
   ]
  },
  {
   "cell_type": "markdown",
   "metadata": {},
   "source": [
    "# Numerical simulations"
   ]
  },
  {
   "cell_type": "code",
   "execution_count": 43,
   "metadata": {
    "collapsed": false
   },
   "outputs": [],
   "source": [
    "def simulated_fixation(strategy_pair, N, i=1, repetitions=10):\n",
    "    \"\"\"Run a Moran process and obtain the fixation probabilities\"\"\"\n",
    "    players = []\n",
    "    for _ in range(i):\n",
    "        players.append(strategy_pair[0]())\n",
    "    for _ in range(N - i):\n",
    "        players.append(strategy_pair[1]())\n",
    "    mp = axl.MoranProcess(players)\n",
    "    win_count = 0\n",
    "    for seed in range(repetitions):\n",
    "        axl.seed(seed)\n",
    "        mp.reset()\n",
    "        mp.play()\n",
    "        if mp.winning_strategy_name == players[0].name:\n",
    "            win_count += 1\n",
    "    return win_count / repetitions"
   ]
  },
  {
   "cell_type": "code",
   "execution_count": 56,
   "metadata": {
    "collapsed": false
   },
   "outputs": [
    {
     "data": {
      "text/plain": [
       "0.66265060240963847"
      ]
     },
     "execution_count": 56,
     "metadata": {},
     "output_type": "execute_result"
    }
   ],
   "source": [
    "fixation((\"Defector\", \"Cooperator\"), 4, 1)"
   ]
  },
  {
   "cell_type": "code",
   "execution_count": 59,
   "metadata": {
    "collapsed": false
   },
   "outputs": [
    {
     "data": {
      "text/plain": [
       "0.662"
      ]
     },
     "execution_count": 59,
     "metadata": {},
     "output_type": "execute_result"
    }
   ],
   "source": [
    "simulated_fixation((axl.Defector, axl.Cooperator), 4, 1, repetitions=1000)"
   ]
  },
  {
   "cell_type": "code",
   "execution_count": 60,
   "metadata": {
    "collapsed": false
   },
   "outputs": [
    {
     "data": {
      "text/plain": [
       "0.56224899598393574"
      ]
     },
     "execution_count": 60,
     "metadata": {},
     "output_type": "execute_result"
    }
   ],
   "source": [
    "fixation((\"Defector\", \"Alternator\"), 4, 1)"
   ]
  },
  {
   "cell_type": "code",
   "execution_count": 61,
   "metadata": {
    "collapsed": false
   },
   "outputs": [
    {
     "data": {
      "text/plain": [
       "0.554"
      ]
     },
     "execution_count": 61,
     "metadata": {},
     "output_type": "execute_result"
    }
   ],
   "source": [
    "simulated_fixation((axl.Defector, axl.Alternator), 4, 1, repetitions=1000)"
   ]
  },
  {
   "cell_type": "code",
   "execution_count": 63,
   "metadata": {
    "collapsed": false
   },
   "outputs": [
    {
     "data": {
      "text/plain": [
       "0.30090669368582795"
      ]
     },
     "execution_count": 63,
     "metadata": {},
     "output_type": "execute_result"
    }
   ],
   "source": [
    "fixation((\"Tit For Tat\", \"Alternator\"), 4, 1)"
   ]
  },
  {
   "cell_type": "code",
   "execution_count": 64,
   "metadata": {
    "collapsed": false
   },
   "outputs": [
    {
     "data": {
      "text/plain": [
       "0.316"
      ]
     },
     "execution_count": 64,
     "metadata": {},
     "output_type": "execute_result"
    }
   ],
   "source": [
    "simulated_fixation((axl.TitForTat, axl.Alternator), 4, 1, repetitions=1000)"
   ]
  },
  {
   "cell_type": "code",
   "execution_count": 92,
   "metadata": {
    "collapsed": false,
    "scrolled": true
   },
   "outputs": [
    {
     "name": "stdout",
     "output_type": "stream",
     "text": [
      "(<class 'axelrod.strategies.alternator.Alternator'>, <class 'axelrod.strategies.titfortat.AntiTitForTat'>)\n",
      "(<class 'axelrod.strategies.alternator.Alternator'>, <class 'axelrod.strategies.titfortat.Bully'>)\n",
      "(<class 'axelrod.strategies.alternator.Alternator'>, <class 'axelrod.strategies.cooperator.Cooperator'>)\n",
      "(<class 'axelrod.strategies.alternator.Alternator'>, <class 'axelrod.strategies.cycler.CyclerDC'>)\n",
      "(<class 'axelrod.strategies.alternator.Alternator'>, <class 'axelrod.strategies.defector.Defector'>)\n",
      "(<class 'axelrod.strategies.alternator.Alternator'>, <class 'axelrod.strategies.titfortat.SuspiciousTitForTat'>)\n",
      "(<class 'axelrod.strategies.alternator.Alternator'>, <class 'axelrod.strategies.titfortat.TitForTat'>)\n",
      "(<class 'axelrod.strategies.alternator.Alternator'>, <class 'axelrod.strategies.memoryone.WinShiftLoseStay'>)\n",
      "(<class 'axelrod.strategies.alternator.Alternator'>, <class 'axelrod.strategies.memoryone.WinStayLoseShift'>)\n",
      "(<class 'axelrod.strategies.titfortat.AntiTitForTat'>, <class 'axelrod.strategies.titfortat.Bully'>)\n",
      "(<class 'axelrod.strategies.titfortat.AntiTitForTat'>, <class 'axelrod.strategies.cooperator.Cooperator'>)\n",
      "(<class 'axelrod.strategies.titfortat.AntiTitForTat'>, <class 'axelrod.strategies.cycler.CyclerDC'>)\n",
      "(<class 'axelrod.strategies.titfortat.AntiTitForTat'>, <class 'axelrod.strategies.defector.Defector'>)\n",
      "(<class 'axelrod.strategies.titfortat.AntiTitForTat'>, <class 'axelrod.strategies.titfortat.SuspiciousTitForTat'>)\n",
      "(<class 'axelrod.strategies.titfortat.AntiTitForTat'>, <class 'axelrod.strategies.titfortat.TitForTat'>)\n",
      "(<class 'axelrod.strategies.titfortat.AntiTitForTat'>, <class 'axelrod.strategies.memoryone.WinShiftLoseStay'>)\n",
      "(<class 'axelrod.strategies.titfortat.AntiTitForTat'>, <class 'axelrod.strategies.memoryone.WinStayLoseShift'>)\n",
      "(<class 'axelrod.strategies.titfortat.Bully'>, <class 'axelrod.strategies.cooperator.Cooperator'>)\n",
      "(<class 'axelrod.strategies.titfortat.Bully'>, <class 'axelrod.strategies.cycler.CyclerDC'>)\n",
      "(<class 'axelrod.strategies.titfortat.Bully'>, <class 'axelrod.strategies.defector.Defector'>)\n",
      "(<class 'axelrod.strategies.titfortat.Bully'>, <class 'axelrod.strategies.titfortat.SuspiciousTitForTat'>)\n",
      "(<class 'axelrod.strategies.titfortat.Bully'>, <class 'axelrod.strategies.titfortat.TitForTat'>)\n",
      "(<class 'axelrod.strategies.titfortat.Bully'>, <class 'axelrod.strategies.memoryone.WinShiftLoseStay'>)\n",
      "(<class 'axelrod.strategies.titfortat.Bully'>, <class 'axelrod.strategies.memoryone.WinStayLoseShift'>)\n",
      "(<class 'axelrod.strategies.cooperator.Cooperator'>, <class 'axelrod.strategies.cycler.CyclerDC'>)\n",
      "(<class 'axelrod.strategies.cooperator.Cooperator'>, <class 'axelrod.strategies.defector.Defector'>)\n",
      "(<class 'axelrod.strategies.cooperator.Cooperator'>, <class 'axelrod.strategies.titfortat.SuspiciousTitForTat'>)\n",
      "(<class 'axelrod.strategies.cooperator.Cooperator'>, <class 'axelrod.strategies.titfortat.TitForTat'>)\n",
      "(<class 'axelrod.strategies.cooperator.Cooperator'>, <class 'axelrod.strategies.memoryone.WinShiftLoseStay'>)\n",
      "(<class 'axelrod.strategies.cooperator.Cooperator'>, <class 'axelrod.strategies.memoryone.WinStayLoseShift'>)\n",
      "(<class 'axelrod.strategies.cycler.CyclerDC'>, <class 'axelrod.strategies.defector.Defector'>)\n",
      "(<class 'axelrod.strategies.cycler.CyclerDC'>, <class 'axelrod.strategies.titfortat.SuspiciousTitForTat'>)\n",
      "(<class 'axelrod.strategies.cycler.CyclerDC'>, <class 'axelrod.strategies.titfortat.TitForTat'>)\n",
      "(<class 'axelrod.strategies.cycler.CyclerDC'>, <class 'axelrod.strategies.memoryone.WinShiftLoseStay'>)\n",
      "(<class 'axelrod.strategies.cycler.CyclerDC'>, <class 'axelrod.strategies.memoryone.WinStayLoseShift'>)\n",
      "(<class 'axelrod.strategies.defector.Defector'>, <class 'axelrod.strategies.titfortat.SuspiciousTitForTat'>)\n",
      "(<class 'axelrod.strategies.defector.Defector'>, <class 'axelrod.strategies.titfortat.TitForTat'>)\n",
      "(<class 'axelrod.strategies.defector.Defector'>, <class 'axelrod.strategies.memoryone.WinShiftLoseStay'>)\n",
      "(<class 'axelrod.strategies.defector.Defector'>, <class 'axelrod.strategies.memoryone.WinStayLoseShift'>)\n",
      "(<class 'axelrod.strategies.titfortat.SuspiciousTitForTat'>, <class 'axelrod.strategies.titfortat.TitForTat'>)\n",
      "(<class 'axelrod.strategies.titfortat.SuspiciousTitForTat'>, <class 'axelrod.strategies.memoryone.WinShiftLoseStay'>)\n",
      "(<class 'axelrod.strategies.titfortat.SuspiciousTitForTat'>, <class 'axelrod.strategies.memoryone.WinStayLoseShift'>)\n",
      "(<class 'axelrod.strategies.titfortat.TitForTat'>, <class 'axelrod.strategies.memoryone.WinShiftLoseStay'>)\n",
      "(<class 'axelrod.strategies.titfortat.TitForTat'>, <class 'axelrod.strategies.memoryone.WinStayLoseShift'>)\n",
      "(<class 'axelrod.strategies.memoryone.WinShiftLoseStay'>, <class 'axelrod.strategies.memoryone.WinStayLoseShift'>)\n"
     ]
    }
   ],
   "source": [
    "import itertools\n"
   ]
  },
  {
   "cell_type": "code",
   "execution_count": 96,
   "metadata": {
    "collapsed": false
   },
   "outputs": [],
   "source": [
    "def compare_fixation(axl_strategy_pair, N, i=1, repetitions=100):\n",
    "    \"\"\"Compare the fixation probabilities returns difference\"\"\"\n",
    "    sim_fixation = simulated_fixation(axl_strategy_pair, N, i=i, repetitions=repetitions)\n",
    "    strategy_names = [s().__repr__() for s in axl_strategy_pair]\n",
    "    analytical_fixation = fixation(strategy_names, N, i=i)\n",
    "    return analytical_fixation - sim_fixation"
   ]
  },
  {
   "cell_type": "code",
   "execution_count": 98,
   "metadata": {
    "collapsed": false
   },
   "outputs": [
    {
     "name": "stdout",
     "output_type": "stream",
     "text": [
      "Alternator *invading* Anti Tit For Tat: diff = -0.004666666666666708\n",
      "Anti Tit For Tat *invading* Alternator: diff = -0.004666666666666708\n",
      "Alternator *invading* Bully: diff = -0.003860498116672384\n",
      "Bully *invading* Alternator: diff = -0.004605346354900397\n",
      "Alternator *invading* Cooperator: diff = 0.005372881355932169\n",
      "Cooperator *invading* Alternator: diff = -0.0034576271186440577\n",
      "Alternator *invading* Cycler DC: diff = -0.002172413793103456\n",
      "Cycler DC *invading* Alternator: diff = -0.002172413793103456\n",
      "Alternator *invading* Defector: diff = 0.004493150684931502\n",
      "Defector *invading* Alternator: diff = -0.007465753424657495\n",
      "Alternator *invading* Suspicious Tit For Tat: diff = 0.016587443946188385\n",
      "Suspicious Tit For Tat *invading* Alternator: diff = -0.005098654708520223\n",
      "Alternator *invading* Tit For Tat: diff = -0.007538523210133818\n",
      "Tit For Tat *invading* Alternator: diff = -0.0006748977792030986\n",
      "Alternator *invading* Win-Shift Lose-Stay: diff = 0.01710249671484887\n",
      "Win-Shift Lose-Stay *invading* Alternator: diff = -0.01050985545335087\n",
      "Alternator *invading* Win-Stay Lose-Shift: diff = -0.002051873198847254\n",
      "Win-Stay Lose-Shift *invading* Alternator: diff = -0.004887608069164273\n",
      "Anti Tit For Tat *invading* Bully: diff = 0.0\n",
      "Bully *invading* Anti Tit For Tat: diff = -0.0006666666666665932\n",
      "Anti Tit For Tat *invading* Cooperator: diff = -0.010776283880759574\n",
      "Cooperator *invading* Anti Tit For Tat: diff = -0.0020052295560651296\n",
      "Anti Tit For Tat *invading* Cycler DC: diff = -0.003572923306540632\n",
      "Cycler DC *invading* Anti Tit For Tat: diff = -0.0053385674973959185\n",
      "Anti Tit For Tat *invading* Defector: diff = 0.0\n",
      "Defector *invading* Anti Tit For Tat: diff = -0.0006666666666665932\n",
      "Anti Tit For Tat *invading* Suspicious Tit For Tat: diff = 0.01710249671484887\n",
      "Suspicious Tit For Tat *invading* Anti Tit For Tat: diff = -0.01050985545335087\n",
      "Anti Tit For Tat *invading* Tit For Tat: diff = -0.002051873198847254\n",
      "Tit For Tat *invading* Anti Tit For Tat: diff = -0.004887608069164273\n",
      "Anti Tit For Tat *invading* Win-Shift Lose-Stay: diff = 0.006831832478779776\n",
      "Win-Shift Lose-Stay *invading* Anti Tit For Tat: diff = 0.004061183161704451\n",
      "Anti Tit For Tat *invading* Win-Stay Lose-Shift: diff = 0.012315587915464943\n",
      "Win-Stay Lose-Shift *invading* Anti Tit For Tat: diff = -0.008590184861235889\n",
      "Bully *invading* Cooperator: diff = -0.012769230769230866\n",
      "Cooperator *invading* Bully: diff = 0.0\n",
      "Bully *invading* Cycler DC: diff = -0.004666666666666708\n",
      "Cycler DC *invading* Bully: diff = -0.004666666666666708\n",
      "Bully *invading* Defector: diff = -0.0007198576234006209\n",
      "Defector *invading* Bully: diff = -0.0018052835830280056\n",
      "Bully *invading* Suspicious Tit For Tat: diff = 0.01710249671484887\n",
      "Suspicious Tit For Tat *invading* Bully: diff = -0.01050985545335087\n",
      "Bully *invading* Tit For Tat: diff = -0.002051873198847254\n",
      "Tit For Tat *invading* Bully: diff = -0.004887608069164273\n",
      "Bully *invading* Win-Shift Lose-Stay: diff = -0.0019132261649814353\n",
      "Win-Shift Lose-Stay *invading* Bully: diff = 0.00948035999891561\n",
      "Bully *invading* Win-Stay Lose-Shift: diff = 0.007539440052309276\n",
      "Win-Stay Lose-Shift *invading* Bully: diff = -0.0013241197566822849\n",
      "Cooperator *invading* Cycler DC: diff = -0.0034576271186440577\n",
      "Cycler DC *invading* Cooperator: diff = 0.005372881355932169\n",
      "Cooperator *invading* Defector: diff = 0.0\n",
      "Defector *invading* Cooperator: diff = -0.012769230769230866\n",
      "Cooperator *invading* Suspicious Tit For Tat: diff = 0.01401927972290612\n",
      "Suspicious Tit For Tat *invading* Cooperator: diff = -0.010172933272127815\n",
      "Cooperator *invading* Tit For Tat: diff = -0.004666666666666708\n",
      "Tit For Tat *invading* Cooperator: diff = -0.004666666666666708\n",
      "Cooperator *invading* Win-Shift Lose-Stay: diff = -0.0013684210526315743\n",
      "Win-Shift Lose-Stay *invading* Cooperator: diff = 0.009315789473684166\n",
      "Cooperator *invading* Win-Stay Lose-Shift: diff = -0.004666666666666708\n",
      "Win-Stay Lose-Shift *invading* Cooperator: diff = -0.004666666666666708\n",
      "Cycler DC *invading* Defector: diff = 0.004493150684931502\n",
      "Defector *invading* Cycler DC: diff = -0.007465753424657495\n",
      "Cycler DC *invading* Suspicious Tit For Tat: diff = 0.019495645082074353\n",
      "Suspicious Tit For Tat *invading* Cycler DC: diff = -0.0075071846007579435\n",
      "Cycler DC *invading* Tit For Tat: diff = 3.3444816053829207e-06\n",
      "Tit For Tat *invading* Cycler DC: diff = -0.003107023411371257\n",
      "Cycler DC *invading* Win-Shift Lose-Stay: diff = 0.01710249671484887\n",
      "Win-Shift Lose-Stay *invading* Cycler DC: diff = -0.01050985545335087\n",
      "Cycler DC *invading* Win-Stay Lose-Shift: diff = -0.002051873198847254\n",
      "Win-Stay Lose-Shift *invading* Cycler DC: diff = -0.004887608069164273\n",
      "Defector *invading* Suspicious Tit For Tat: diff = -0.004666666666666708\n",
      "Suspicious Tit For Tat *invading* Defector: diff = -0.004666666666666708\n",
      "Defector *invading* Tit For Tat: diff = -0.0033998733910107215\n",
      "Tit For Tat *invading* Defector: diff = -0.0032753745515931576\n",
      "Defector *invading* Win-Shift Lose-Stay: diff = -0.004666666666666708\n",
      "Win-Shift Lose-Stay *invading* Defector: diff = -0.004666666666666708\n",
      "Defector *invading* Win-Stay Lose-Shift: diff = 0.003313253012048323\n",
      "Win-Stay Lose-Shift *invading* Defector: diff = 0.001337349397590351\n",
      "Suspicious Tit For Tat *invading* Tit For Tat: diff = 0.0003735408560310849\n",
      "Tit For Tat *invading* Suspicious Tit For Tat: diff = 0.017015564202334632\n",
      "Suspicious Tit For Tat *invading* Win-Shift Lose-Stay: diff = -0.004666666666666708\n",
      "Win-Shift Lose-Stay *invading* Suspicious Tit For Tat: diff = -0.004666666666666708\n",
      "Suspicious Tit For Tat *invading* Win-Stay Lose-Shift: diff = -0.002486470296675425\n",
      "Win-Stay Lose-Shift *invading* Suspicious Tit For Tat: diff = 0.021572451302874995\n",
      "Tit For Tat *invading* Win-Shift Lose-Stay: diff = 0.024343993658776153\n",
      "Win-Shift Lose-Stay *invading* Tit For Tat: diff = -0.015880717253413112\n",
      "Tit For Tat *invading* Win-Stay Lose-Shift: diff = -0.004666666666666708\n",
      "Win-Stay Lose-Shift *invading* Tit For Tat: diff = -0.004666666666666708\n",
      "Win-Shift Lose-Stay *invading* Win-Stay Lose-Shift: diff = -0.00041479985441362176\n",
      "Win-Stay Lose-Shift *invading* Win-Shift Lose-Stay: diff = 0.0020753766333863055\n"
     ]
    }
   ],
   "source": [
    "repetitions = 1000\n",
    "N = 3\n",
    "for pair in itertools.combinations(axl.basic_strategies, 2):\n",
    "    names = [s.name for s in pair]\n",
    "    print(\"{} *invading* {}: diff = {}\".format(*names, compare_fixation(pair, N, repetitions=repetitions)))\n",
    "    pair = pair[::-1]\n",
    "    names = [s.name for s in pair]\n",
    "    print(\"{} *invading* {}: diff = {}\".format(*names, compare_fixation(pair, N, repetitions=repetitions)))"
   ]
  },
  {
   "cell_type": "markdown",
   "metadata": {},
   "source": [
    "The Moran process still seems to (initially) compare well for stochastic strategies:"
   ]
  },
  {
   "cell_type": "code",
   "execution_count": 100,
   "metadata": {
    "collapsed": false
   },
   "outputs": [
    {
     "name": "stdout",
     "output_type": "stream",
     "text": [
      "ALLCorALLD *invading* Arrogant QLearner: diff = 0.11898542434928705\n",
      "Arrogant QLearner *invading* ALLCorALLD: diff = -0.13503643568865606\n",
      "ALLCorALLD *invading* Average Copier: diff = -0.010496903833797755\n",
      "Average Copier *invading* ALLCorALLD: diff = 0.027596862952570134\n",
      "ALLCorALLD *invading* Calculator: diff = -0.08713390616009632\n",
      "Calculator *invading* ALLCorALLD: diff = 0.19976019146202784\n",
      "ALLCorALLD *invading* Cautious QLearner: diff = 0.1305192247842782\n",
      "Cautious QLearner *invading* ALLCorALLD: diff = -0.142892029839722\n",
      "ALLCorALLD *invading* Champion: diff = 0.00573662119622248\n",
      "Champion *invading* ALLCorALLD: diff = 0.016926547743966402\n",
      "ALLCorALLD *invading* Desperate: diff = -0.05791397530140105\n",
      "Desperate *invading* ALLCorALLD: diff = 0.113360390366674\n",
      "ALLCorALLD *invading* Eatherley: diff = 0.023342383304088554\n",
      "Eatherley *invading* ALLCorALLD: diff = -0.01001366702602463\n",
      "ALLCorALLD *invading* Feld: diff = -0.044827773952966776\n",
      "Feld *invading* ALLCorALLD: diff = 0.09470713592123275\n",
      "ALLCorALLD *invading* Firm But Fair: diff = 0.1115724429463883\n",
      "Firm But Fair *invading* ALLCorALLD: diff = -0.17060280804846212\n",
      "ALLCorALLD *invading* Forgetful Fool Me Once: diff = 0.023119546650451628\n",
      "Forgetful Fool Me Once *invading* ALLCorALLD: diff = -0.09896340445150287\n",
      "ALLCorALLD *invading* PSO Gambler: diff = 0.0288510651809471\n",
      "PSO Gambler *invading* ALLCorALLD: diff = -0.008906566409630667\n",
      "ALLCorALLD *invading* GTFT: diff = 0.09561379224156663\n",
      "GTFT *invading* ALLCorALLD: diff = 0.11714228753871925\n"
     ]
    },
    {
     "ename": "KeyboardInterrupt",
     "evalue": "",
     "output_type": "error",
     "traceback": [
      "\u001b[0;31m--------------------------------------------------------------------\u001b[0m",
      "\u001b[0;31mKeyboardInterrupt\u001b[0m                  Traceback (most recent call last)",
      "\u001b[0;32m<ipython-input-100-f129fbc4b946>\u001b[0m in \u001b[0;36m<module>\u001b[0;34m()\u001b[0m\n\u001b[1;32m      5\u001b[0m \u001b[0;32mfor\u001b[0m \u001b[0mpair\u001b[0m \u001b[0;32min\u001b[0m \u001b[0mitertools\u001b[0m\u001b[0;34m.\u001b[0m\u001b[0mcombinations\u001b[0m\u001b[0;34m(\u001b[0m\u001b[0mstochastic_strategies\u001b[0m\u001b[0;34m,\u001b[0m \u001b[0;36m2\u001b[0m\u001b[0;34m)\u001b[0m\u001b[0;34m:\u001b[0m\u001b[0;34m\u001b[0m\u001b[0m\n\u001b[1;32m      6\u001b[0m     \u001b[0mnames\u001b[0m \u001b[0;34m=\u001b[0m \u001b[0;34m[\u001b[0m\u001b[0ms\u001b[0m\u001b[0;34m.\u001b[0m\u001b[0mname\u001b[0m \u001b[0;32mfor\u001b[0m \u001b[0ms\u001b[0m \u001b[0;32min\u001b[0m \u001b[0mpair\u001b[0m\u001b[0;34m]\u001b[0m\u001b[0;34m\u001b[0m\u001b[0m\n\u001b[0;32m----> 7\u001b[0;31m     \u001b[0mprint\u001b[0m\u001b[0;34m(\u001b[0m\u001b[0;34m\"{} *invading* {}: diff = {}\"\u001b[0m\u001b[0;34m.\u001b[0m\u001b[0mformat\u001b[0m\u001b[0;34m(\u001b[0m\u001b[0;34m*\u001b[0m\u001b[0mnames\u001b[0m\u001b[0;34m,\u001b[0m \u001b[0mcompare_fixation\u001b[0m\u001b[0;34m(\u001b[0m\u001b[0mpair\u001b[0m\u001b[0;34m,\u001b[0m \u001b[0mN\u001b[0m\u001b[0;34m,\u001b[0m \u001b[0mrepetitions\u001b[0m\u001b[0;34m=\u001b[0m\u001b[0mrepetitions\u001b[0m\u001b[0;34m)\u001b[0m\u001b[0;34m)\u001b[0m\u001b[0;34m)\u001b[0m\u001b[0;34m\u001b[0m\u001b[0m\n\u001b[0m\u001b[1;32m      8\u001b[0m     \u001b[0mpair\u001b[0m \u001b[0;34m=\u001b[0m \u001b[0mpair\u001b[0m\u001b[0;34m[\u001b[0m\u001b[0;34m:\u001b[0m\u001b[0;34m:\u001b[0m\u001b[0;34m-\u001b[0m\u001b[0;36m1\u001b[0m\u001b[0;34m]\u001b[0m\u001b[0;34m\u001b[0m\u001b[0m\n\u001b[1;32m      9\u001b[0m     \u001b[0mnames\u001b[0m \u001b[0;34m=\u001b[0m \u001b[0;34m[\u001b[0m\u001b[0ms\u001b[0m\u001b[0;34m.\u001b[0m\u001b[0mname\u001b[0m \u001b[0;32mfor\u001b[0m \u001b[0ms\u001b[0m \u001b[0;32min\u001b[0m \u001b[0mpair\u001b[0m\u001b[0;34m]\u001b[0m\u001b[0;34m\u001b[0m\u001b[0m\n",
      "\u001b[0;32m<ipython-input-96-66358a15d3a1>\u001b[0m in \u001b[0;36mcompare_fixation\u001b[0;34m(axl_strategy_pair, N, i, repetitions)\u001b[0m\n\u001b[1;32m      1\u001b[0m \u001b[0;32mdef\u001b[0m \u001b[0mcompare_fixation\u001b[0m\u001b[0;34m(\u001b[0m\u001b[0maxl_strategy_pair\u001b[0m\u001b[0;34m,\u001b[0m \u001b[0mN\u001b[0m\u001b[0;34m,\u001b[0m \u001b[0mi\u001b[0m\u001b[0;34m=\u001b[0m\u001b[0;36m1\u001b[0m\u001b[0;34m,\u001b[0m \u001b[0mrepetitions\u001b[0m\u001b[0;34m=\u001b[0m\u001b[0;36m100\u001b[0m\u001b[0;34m)\u001b[0m\u001b[0;34m:\u001b[0m\u001b[0;34m\u001b[0m\u001b[0m\n\u001b[1;32m      2\u001b[0m     \u001b[0;34m\"\"\"Compare the fixation probabilities returns difference\"\"\"\u001b[0m\u001b[0;34m\u001b[0m\u001b[0m\n\u001b[0;32m----> 3\u001b[0;31m     \u001b[0msim_fixation\u001b[0m \u001b[0;34m=\u001b[0m \u001b[0msimulated_fixation\u001b[0m\u001b[0;34m(\u001b[0m\u001b[0maxl_strategy_pair\u001b[0m\u001b[0;34m,\u001b[0m \u001b[0mN\u001b[0m\u001b[0;34m,\u001b[0m \u001b[0mi\u001b[0m\u001b[0;34m=\u001b[0m\u001b[0mi\u001b[0m\u001b[0;34m,\u001b[0m \u001b[0mrepetitions\u001b[0m\u001b[0;34m=\u001b[0m\u001b[0mrepetitions\u001b[0m\u001b[0;34m)\u001b[0m\u001b[0;34m\u001b[0m\u001b[0m\n\u001b[0m\u001b[1;32m      4\u001b[0m     \u001b[0mstrategy_names\u001b[0m \u001b[0;34m=\u001b[0m \u001b[0;34m[\u001b[0m\u001b[0ms\u001b[0m\u001b[0;34m(\u001b[0m\u001b[0;34m)\u001b[0m\u001b[0;34m.\u001b[0m\u001b[0m__repr__\u001b[0m\u001b[0;34m(\u001b[0m\u001b[0;34m)\u001b[0m \u001b[0;32mfor\u001b[0m \u001b[0ms\u001b[0m \u001b[0;32min\u001b[0m \u001b[0maxl_strategy_pair\u001b[0m\u001b[0;34m]\u001b[0m\u001b[0;34m\u001b[0m\u001b[0m\n\u001b[1;32m      5\u001b[0m     \u001b[0manalytical_fixation\u001b[0m \u001b[0;34m=\u001b[0m \u001b[0mfixation\u001b[0m\u001b[0;34m(\u001b[0m\u001b[0mstrategy_names\u001b[0m\u001b[0;34m,\u001b[0m \u001b[0mN\u001b[0m\u001b[0;34m,\u001b[0m \u001b[0mi\u001b[0m\u001b[0;34m=\u001b[0m\u001b[0mi\u001b[0m\u001b[0;34m)\u001b[0m\u001b[0;34m\u001b[0m\u001b[0m\n",
      "\u001b[0;32m<ipython-input-43-5dc5c019f701>\u001b[0m in \u001b[0;36msimulated_fixation\u001b[0;34m(strategy_pair, N, i, repetitions)\u001b[0m\n\u001b[1;32m     11\u001b[0m         \u001b[0maxl\u001b[0m\u001b[0;34m.\u001b[0m\u001b[0mseed\u001b[0m\u001b[0;34m(\u001b[0m\u001b[0mseed\u001b[0m\u001b[0;34m)\u001b[0m\u001b[0;34m\u001b[0m\u001b[0m\n\u001b[1;32m     12\u001b[0m         \u001b[0mmp\u001b[0m\u001b[0;34m.\u001b[0m\u001b[0mreset\u001b[0m\u001b[0;34m(\u001b[0m\u001b[0;34m)\u001b[0m\u001b[0;34m\u001b[0m\u001b[0m\n\u001b[0;32m---> 13\u001b[0;31m         \u001b[0mmp\u001b[0m\u001b[0;34m.\u001b[0m\u001b[0mplay\u001b[0m\u001b[0;34m(\u001b[0m\u001b[0;34m)\u001b[0m\u001b[0;34m\u001b[0m\u001b[0m\n\u001b[0m\u001b[1;32m     14\u001b[0m         \u001b[0;32mif\u001b[0m \u001b[0mmp\u001b[0m\u001b[0;34m.\u001b[0m\u001b[0mwinning_strategy_name\u001b[0m \u001b[0;34m==\u001b[0m \u001b[0mplayers\u001b[0m\u001b[0;34m[\u001b[0m\u001b[0;36m0\u001b[0m\u001b[0;34m]\u001b[0m\u001b[0;34m.\u001b[0m\u001b[0mname\u001b[0m\u001b[0;34m:\u001b[0m\u001b[0;34m\u001b[0m\u001b[0m\n\u001b[1;32m     15\u001b[0m             \u001b[0mwin_count\u001b[0m \u001b[0;34m+=\u001b[0m \u001b[0;36m1\u001b[0m\u001b[0;34m\u001b[0m\u001b[0m\n",
      "\u001b[0;32m/home/vince/anaconda3/envs/moran/lib/python3.5/site-packages/axelrod/moran.py\u001b[0m in \u001b[0;36mplay\u001b[0;34m(self)\u001b[0m\n\u001b[1;32m    188\u001b[0m         \u001b[0;32mwhile\u001b[0m \u001b[0;32mTrue\u001b[0m\u001b[0;34m:\u001b[0m\u001b[0;34m\u001b[0m\u001b[0m\n\u001b[1;32m    189\u001b[0m             \u001b[0;32mtry\u001b[0m\u001b[0;34m:\u001b[0m\u001b[0;34m\u001b[0m\u001b[0m\n\u001b[0;32m--> 190\u001b[0;31m                 \u001b[0mself\u001b[0m\u001b[0;34m.\u001b[0m\u001b[0m__next__\u001b[0m\u001b[0;34m(\u001b[0m\u001b[0;34m)\u001b[0m\u001b[0;34m\u001b[0m\u001b[0m\n\u001b[0m\u001b[1;32m    191\u001b[0m             \u001b[0;32mexcept\u001b[0m \u001b[0mStopIteration\u001b[0m\u001b[0;34m:\u001b[0m\u001b[0;34m\u001b[0m\u001b[0m\n\u001b[1;32m    192\u001b[0m                 \u001b[0;32mbreak\u001b[0m\u001b[0;34m\u001b[0m\u001b[0m\n",
      "\u001b[0;32m/home/vince/anaconda3/envs/moran/lib/python3.5/site-packages/axelrod/moran.py\u001b[0m in \u001b[0;36m__next__\u001b[0;34m(self)\u001b[0m\n\u001b[1;32m    129\u001b[0m             \u001b[0mself\u001b[0m\u001b[0;34m.\u001b[0m\u001b[0mwinning_strategy_name\u001b[0m \u001b[0;34m=\u001b[0m \u001b[0mstr\u001b[0m\u001b[0;34m(\u001b[0m\u001b[0mself\u001b[0m\u001b[0;34m.\u001b[0m\u001b[0mplayers\u001b[0m\u001b[0;34m[\u001b[0m\u001b[0;36m0\u001b[0m\u001b[0;34m]\u001b[0m\u001b[0;34m)\u001b[0m\u001b[0;34m\u001b[0m\u001b[0m\n\u001b[1;32m    130\u001b[0m             \u001b[0;32mraise\u001b[0m \u001b[0mStopIteration\u001b[0m\u001b[0;34m\u001b[0m\u001b[0m\n\u001b[0;32m--> 131\u001b[0;31m         \u001b[0mscores\u001b[0m \u001b[0;34m=\u001b[0m \u001b[0mself\u001b[0m\u001b[0;34m.\u001b[0m\u001b[0m_play_next_round\u001b[0m\u001b[0;34m(\u001b[0m\u001b[0;34m)\u001b[0m\u001b[0;34m\u001b[0m\u001b[0m\n\u001b[0m\u001b[1;32m    132\u001b[0m         \u001b[0;31m# Update the population\u001b[0m\u001b[0;34m\u001b[0m\u001b[0;34m\u001b[0m\u001b[0m\n\u001b[1;32m    133\u001b[0m         \u001b[0;31m# Fitness proportionate selection\u001b[0m\u001b[0;34m\u001b[0m\u001b[0;34m\u001b[0m\u001b[0m\n",
      "\u001b[0;32m/home/vince/anaconda3/envs/moran/lib/python3.5/site-packages/axelrod/moran.py\u001b[0m in \u001b[0;36m_play_next_round\u001b[0;34m(self)\u001b[0m\n\u001b[1;32m    157\u001b[0m                     \u001b[0;34m(\u001b[0m\u001b[0mplayer1\u001b[0m\u001b[0;34m,\u001b[0m \u001b[0mplayer2\u001b[0m\u001b[0;34m)\u001b[0m\u001b[0;34m,\u001b[0m \u001b[0mturns\u001b[0m\u001b[0;34m=\u001b[0m\u001b[0mself\u001b[0m\u001b[0;34m.\u001b[0m\u001b[0mturns\u001b[0m\u001b[0;34m,\u001b[0m \u001b[0mnoise\u001b[0m\u001b[0;34m=\u001b[0m\u001b[0mself\u001b[0m\u001b[0;34m.\u001b[0m\u001b[0mnoise\u001b[0m\u001b[0;34m,\u001b[0m\u001b[0;34m\u001b[0m\u001b[0m\n\u001b[1;32m    158\u001b[0m                     deterministic_cache=self.deterministic_cache)\n\u001b[0;32m--> 159\u001b[0;31m                 \u001b[0mmatch\u001b[0m\u001b[0;34m.\u001b[0m\u001b[0mplay\u001b[0m\u001b[0;34m(\u001b[0m\u001b[0;34m)\u001b[0m\u001b[0;34m\u001b[0m\u001b[0m\n\u001b[0m\u001b[1;32m    160\u001b[0m                 \u001b[0mmatch_scores\u001b[0m \u001b[0;34m=\u001b[0m \u001b[0mnp\u001b[0m\u001b[0;34m.\u001b[0m\u001b[0msum\u001b[0m\u001b[0;34m(\u001b[0m\u001b[0mmatch\u001b[0m\u001b[0;34m.\u001b[0m\u001b[0mscores\u001b[0m\u001b[0;34m(\u001b[0m\u001b[0;34m)\u001b[0m\u001b[0;34m,\u001b[0m \u001b[0maxis\u001b[0m\u001b[0;34m=\u001b[0m\u001b[0;36m0\u001b[0m\u001b[0;34m)\u001b[0m \u001b[0;34m/\u001b[0m \u001b[0mfloat\u001b[0m\u001b[0;34m(\u001b[0m\u001b[0mself\u001b[0m\u001b[0;34m.\u001b[0m\u001b[0mturns\u001b[0m\u001b[0;34m)\u001b[0m\u001b[0;34m\u001b[0m\u001b[0m\n\u001b[1;32m    161\u001b[0m                 \u001b[0mscores\u001b[0m\u001b[0;34m[\u001b[0m\u001b[0mi\u001b[0m\u001b[0;34m]\u001b[0m \u001b[0;34m+=\u001b[0m \u001b[0mmatch_scores\u001b[0m\u001b[0;34m[\u001b[0m\u001b[0;36m0\u001b[0m\u001b[0;34m]\u001b[0m\u001b[0;34m\u001b[0m\u001b[0m\n",
      "\u001b[0;32m/home/vince/anaconda3/envs/moran/lib/python3.5/site-packages/axelrod/match.py\u001b[0m in \u001b[0;36mplay\u001b[0;34m(self)\u001b[0m\n\u001b[1;32m    119\u001b[0m             \u001b[0;32mwhile\u001b[0m \u001b[0mturn\u001b[0m \u001b[0;34m<\u001b[0m \u001b[0mself\u001b[0m\u001b[0;34m.\u001b[0m\u001b[0mturns\u001b[0m\u001b[0;34m:\u001b[0m\u001b[0;34m\u001b[0m\u001b[0m\n\u001b[1;32m    120\u001b[0m                 \u001b[0mturn\u001b[0m \u001b[0;34m+=\u001b[0m \u001b[0;36m1\u001b[0m\u001b[0;34m\u001b[0m\u001b[0m\n\u001b[0;32m--> 121\u001b[0;31m                 \u001b[0mself\u001b[0m\u001b[0;34m.\u001b[0m\u001b[0mplayers\u001b[0m\u001b[0;34m[\u001b[0m\u001b[0;36m0\u001b[0m\u001b[0;34m]\u001b[0m\u001b[0;34m.\u001b[0m\u001b[0mplay\u001b[0m\u001b[0;34m(\u001b[0m\u001b[0mself\u001b[0m\u001b[0;34m.\u001b[0m\u001b[0mplayers\u001b[0m\u001b[0;34m[\u001b[0m\u001b[0;36m1\u001b[0m\u001b[0;34m]\u001b[0m\u001b[0;34m,\u001b[0m \u001b[0mself\u001b[0m\u001b[0;34m.\u001b[0m\u001b[0mnoise\u001b[0m\u001b[0;34m)\u001b[0m\u001b[0;34m\u001b[0m\u001b[0m\n\u001b[0m\u001b[1;32m    122\u001b[0m             result = list(\n\u001b[1;32m    123\u001b[0m                 zip(self.players[0].history, self.players[1].history))\n",
      "\u001b[0;32m/home/vince/anaconda3/envs/moran/lib/python3.5/site-packages/axelrod/player.py\u001b[0m in \u001b[0;36mplay\u001b[0;34m(self, opponent, noise)\u001b[0m\n\u001b[1;32m    151\u001b[0m     \u001b[0;32mdef\u001b[0m \u001b[0mplay\u001b[0m\u001b[0;34m(\u001b[0m\u001b[0mself\u001b[0m\u001b[0;34m,\u001b[0m \u001b[0mopponent\u001b[0m\u001b[0;34m,\u001b[0m \u001b[0mnoise\u001b[0m\u001b[0;34m=\u001b[0m\u001b[0;36m0\u001b[0m\u001b[0;34m)\u001b[0m\u001b[0;34m:\u001b[0m\u001b[0;34m\u001b[0m\u001b[0m\n\u001b[1;32m    152\u001b[0m         \u001b[0;34m\"\"\"This pits two players against each other.\"\"\"\u001b[0m\u001b[0;34m\u001b[0m\u001b[0m\n\u001b[0;32m--> 153\u001b[0;31m         \u001b[0ms1\u001b[0m\u001b[0;34m,\u001b[0m \u001b[0ms2\u001b[0m \u001b[0;34m=\u001b[0m \u001b[0mself\u001b[0m\u001b[0;34m.\u001b[0m\u001b[0mstrategy\u001b[0m\u001b[0;34m(\u001b[0m\u001b[0mopponent\u001b[0m\u001b[0;34m)\u001b[0m\u001b[0;34m,\u001b[0m \u001b[0mopponent\u001b[0m\u001b[0;34m.\u001b[0m\u001b[0mstrategy\u001b[0m\u001b[0;34m(\u001b[0m\u001b[0mself\u001b[0m\u001b[0;34m)\u001b[0m\u001b[0;34m\u001b[0m\u001b[0m\n\u001b[0m\u001b[1;32m    154\u001b[0m         \u001b[0;32mif\u001b[0m \u001b[0mnoise\u001b[0m\u001b[0;34m:\u001b[0m\u001b[0;34m\u001b[0m\u001b[0m\n\u001b[1;32m    155\u001b[0m             \u001b[0ms1\u001b[0m\u001b[0;34m,\u001b[0m \u001b[0ms2\u001b[0m \u001b[0;34m=\u001b[0m \u001b[0mself\u001b[0m\u001b[0;34m.\u001b[0m\u001b[0m_add_noise\u001b[0m\u001b[0;34m(\u001b[0m\u001b[0mnoise\u001b[0m\u001b[0;34m,\u001b[0m \u001b[0ms1\u001b[0m\u001b[0;34m,\u001b[0m \u001b[0ms2\u001b[0m\u001b[0;34m)\u001b[0m\u001b[0;34m\u001b[0m\u001b[0m\n",
      "\u001b[0;32m/home/vince/anaconda3/envs/moran/lib/python3.5/site-packages/axelrod/strategies/geller.py\u001b[0m in \u001b[0;36mstrategy\u001b[0;34m(self, opponent)\u001b[0m\n\u001b[1;32m     49\u001b[0m         \"\"\"\n\u001b[1;32m     50\u001b[0m         \u001b[0mcurframe\u001b[0m \u001b[0;34m=\u001b[0m \u001b[0minspect\u001b[0m\u001b[0;34m.\u001b[0m\u001b[0mcurrentframe\u001b[0m\u001b[0;34m(\u001b[0m\u001b[0;34m)\u001b[0m\u001b[0;34m\u001b[0m\u001b[0m\n\u001b[0;32m---> 51\u001b[0;31m         \u001b[0mcalframe\u001b[0m \u001b[0;34m=\u001b[0m \u001b[0minspect\u001b[0m\u001b[0;34m.\u001b[0m\u001b[0mgetouterframes\u001b[0m\u001b[0;34m(\u001b[0m\u001b[0mcurframe\u001b[0m\u001b[0;34m,\u001b[0m \u001b[0;36m2\u001b[0m\u001b[0;34m)\u001b[0m\u001b[0;34m\u001b[0m\u001b[0m\n\u001b[0m\u001b[1;32m     52\u001b[0m         \u001b[0mcalname\u001b[0m \u001b[0;34m=\u001b[0m \u001b[0mcalframe\u001b[0m\u001b[0;34m[\u001b[0m\u001b[0;36m1\u001b[0m\u001b[0;34m]\u001b[0m\u001b[0;34m[\u001b[0m\u001b[0;36m3\u001b[0m\u001b[0;34m]\u001b[0m\u001b[0;34m\u001b[0m\u001b[0m\n\u001b[1;32m     53\u001b[0m         \u001b[0;32mif\u001b[0m \u001b[0mcalname\u001b[0m \u001b[0;34m==\u001b[0m \u001b[0;34m'strategy'\u001b[0m\u001b[0;34m:\u001b[0m\u001b[0;34m\u001b[0m\u001b[0m\n",
      "\u001b[0;32m/home/vince/anaconda3/envs/moran/lib/python3.5/inspect.py\u001b[0m in \u001b[0;36mgetouterframes\u001b[0;34m(frame, context)\u001b[0m\n\u001b[1;32m   1439\u001b[0m     \u001b[0mframelist\u001b[0m \u001b[0;34m=\u001b[0m \u001b[0;34m[\u001b[0m\u001b[0;34m]\u001b[0m\u001b[0;34m\u001b[0m\u001b[0m\n\u001b[1;32m   1440\u001b[0m     \u001b[0;32mwhile\u001b[0m \u001b[0mframe\u001b[0m\u001b[0;34m:\u001b[0m\u001b[0;34m\u001b[0m\u001b[0m\n\u001b[0;32m-> 1441\u001b[0;31m         \u001b[0mframeinfo\u001b[0m \u001b[0;34m=\u001b[0m \u001b[0;34m(\u001b[0m\u001b[0mframe\u001b[0m\u001b[0;34m,\u001b[0m\u001b[0;34m)\u001b[0m \u001b[0;34m+\u001b[0m \u001b[0mgetframeinfo\u001b[0m\u001b[0;34m(\u001b[0m\u001b[0mframe\u001b[0m\u001b[0;34m,\u001b[0m \u001b[0mcontext\u001b[0m\u001b[0;34m)\u001b[0m\u001b[0;34m\u001b[0m\u001b[0m\n\u001b[0m\u001b[1;32m   1442\u001b[0m         \u001b[0mframelist\u001b[0m\u001b[0;34m.\u001b[0m\u001b[0mappend\u001b[0m\u001b[0;34m(\u001b[0m\u001b[0mFrameInfo\u001b[0m\u001b[0;34m(\u001b[0m\u001b[0;34m*\u001b[0m\u001b[0mframeinfo\u001b[0m\u001b[0;34m)\u001b[0m\u001b[0;34m)\u001b[0m\u001b[0;34m\u001b[0m\u001b[0m\n\u001b[1;32m   1443\u001b[0m         \u001b[0mframe\u001b[0m \u001b[0;34m=\u001b[0m \u001b[0mframe\u001b[0m\u001b[0;34m.\u001b[0m\u001b[0mf_back\u001b[0m\u001b[0;34m\u001b[0m\u001b[0m\n",
      "\u001b[0;32m/home/vince/anaconda3/envs/moran/lib/python3.5/inspect.py\u001b[0m in \u001b[0;36mgetframeinfo\u001b[0;34m(frame, context)\u001b[0m\n\u001b[1;32m   1412\u001b[0m         \u001b[0mstart\u001b[0m \u001b[0;34m=\u001b[0m \u001b[0mlineno\u001b[0m \u001b[0;34m-\u001b[0m \u001b[0;36m1\u001b[0m \u001b[0;34m-\u001b[0m \u001b[0mcontext\u001b[0m\u001b[0;34m//\u001b[0m\u001b[0;36m2\u001b[0m\u001b[0;34m\u001b[0m\u001b[0m\n\u001b[1;32m   1413\u001b[0m         \u001b[0;32mtry\u001b[0m\u001b[0;34m:\u001b[0m\u001b[0;34m\u001b[0m\u001b[0m\n\u001b[0;32m-> 1414\u001b[0;31m             \u001b[0mlines\u001b[0m\u001b[0;34m,\u001b[0m \u001b[0mlnum\u001b[0m \u001b[0;34m=\u001b[0m \u001b[0mfindsource\u001b[0m\u001b[0;34m(\u001b[0m\u001b[0mframe\u001b[0m\u001b[0;34m)\u001b[0m\u001b[0;34m\u001b[0m\u001b[0m\n\u001b[0m\u001b[1;32m   1415\u001b[0m         \u001b[0;32mexcept\u001b[0m \u001b[0mOSError\u001b[0m\u001b[0;34m:\u001b[0m\u001b[0;34m\u001b[0m\u001b[0m\n\u001b[1;32m   1416\u001b[0m             \u001b[0mlines\u001b[0m \u001b[0;34m=\u001b[0m \u001b[0mindex\u001b[0m \u001b[0;34m=\u001b[0m \u001b[0;32mNone\u001b[0m\u001b[0;34m\u001b[0m\u001b[0m\n",
      "\u001b[0;32m/home/vince/anaconda3/envs/moran/lib/python3.5/inspect.py\u001b[0m in \u001b[0;36mfindsource\u001b[0;34m(object)\u001b[0m\n\u001b[1;32m    754\u001b[0m             \u001b[0;32mraise\u001b[0m \u001b[0mOSError\u001b[0m\u001b[0;34m(\u001b[0m\u001b[0;34m'source code not available'\u001b[0m\u001b[0;34m)\u001b[0m\u001b[0;34m\u001b[0m\u001b[0m\n\u001b[1;32m    755\u001b[0m \u001b[0;34m\u001b[0m\u001b[0m\n\u001b[0;32m--> 756\u001b[0;31m     \u001b[0mmodule\u001b[0m \u001b[0;34m=\u001b[0m \u001b[0mgetmodule\u001b[0m\u001b[0;34m(\u001b[0m\u001b[0mobject\u001b[0m\u001b[0;34m,\u001b[0m \u001b[0mfile\u001b[0m\u001b[0;34m)\u001b[0m\u001b[0;34m\u001b[0m\u001b[0m\n\u001b[0m\u001b[1;32m    757\u001b[0m     \u001b[0;32mif\u001b[0m \u001b[0mmodule\u001b[0m\u001b[0;34m:\u001b[0m\u001b[0;34m\u001b[0m\u001b[0m\n\u001b[1;32m    758\u001b[0m         \u001b[0mlines\u001b[0m \u001b[0;34m=\u001b[0m \u001b[0mlinecache\u001b[0m\u001b[0;34m.\u001b[0m\u001b[0mgetlines\u001b[0m\u001b[0;34m(\u001b[0m\u001b[0mfile\u001b[0m\u001b[0;34m,\u001b[0m \u001b[0mmodule\u001b[0m\u001b[0;34m.\u001b[0m\u001b[0m__dict__\u001b[0m\u001b[0;34m)\u001b[0m\u001b[0;34m\u001b[0m\u001b[0m\n",
      "\u001b[0;32m/home/vince/anaconda3/envs/moran/lib/python3.5/inspect.py\u001b[0m in \u001b[0;36mgetmodule\u001b[0;34m(object, _filename)\u001b[0m\n\u001b[1;32m    707\u001b[0m     \u001b[0;31m# Copy sys.modules in order to cope with changes while iterating\u001b[0m\u001b[0;34m\u001b[0m\u001b[0;34m\u001b[0m\u001b[0m\n\u001b[1;32m    708\u001b[0m     \u001b[0;32mfor\u001b[0m \u001b[0mmodname\u001b[0m\u001b[0;34m,\u001b[0m \u001b[0mmodule\u001b[0m \u001b[0;32min\u001b[0m \u001b[0mlist\u001b[0m\u001b[0;34m(\u001b[0m\u001b[0msys\u001b[0m\u001b[0;34m.\u001b[0m\u001b[0mmodules\u001b[0m\u001b[0;34m.\u001b[0m\u001b[0mitems\u001b[0m\u001b[0;34m(\u001b[0m\u001b[0;34m)\u001b[0m\u001b[0;34m)\u001b[0m\u001b[0;34m:\u001b[0m\u001b[0;34m\u001b[0m\u001b[0m\n\u001b[0;32m--> 709\u001b[0;31m         \u001b[0;32mif\u001b[0m \u001b[0mismodule\u001b[0m\u001b[0;34m(\u001b[0m\u001b[0mmodule\u001b[0m\u001b[0;34m)\u001b[0m \u001b[0;32mand\u001b[0m \u001b[0mhasattr\u001b[0m\u001b[0;34m(\u001b[0m\u001b[0mmodule\u001b[0m\u001b[0;34m,\u001b[0m \u001b[0;34m'__file__'\u001b[0m\u001b[0;34m)\u001b[0m\u001b[0;34m:\u001b[0m\u001b[0;34m\u001b[0m\u001b[0m\n\u001b[0m\u001b[1;32m    710\u001b[0m             \u001b[0mf\u001b[0m \u001b[0;34m=\u001b[0m \u001b[0mmodule\u001b[0m\u001b[0;34m.\u001b[0m\u001b[0m__file__\u001b[0m\u001b[0;34m\u001b[0m\u001b[0m\n\u001b[1;32m    711\u001b[0m             \u001b[0;32mif\u001b[0m \u001b[0mf\u001b[0m \u001b[0;34m==\u001b[0m \u001b[0m_filesbymodname\u001b[0m\u001b[0;34m.\u001b[0m\u001b[0mget\u001b[0m\u001b[0;34m(\u001b[0m\u001b[0mmodname\u001b[0m\u001b[0;34m,\u001b[0m \u001b[0;32mNone\u001b[0m\u001b[0;34m)\u001b[0m\u001b[0;34m:\u001b[0m\u001b[0;34m\u001b[0m\u001b[0m\n",
      "\u001b[0;32m/home/vince/anaconda3/envs/moran/lib/python3.5/inspect.py\u001b[0m in \u001b[0;36mismodule\u001b[0;34m(object)\u001b[0m\n\u001b[1;32m     68\u001b[0m         \u001b[0m__doc__\u001b[0m         \u001b[0mdocumentation\u001b[0m \u001b[0mstring\u001b[0m\u001b[0;34m\u001b[0m\u001b[0m\n\u001b[1;32m     69\u001b[0m         __file__        filename (missing for built-in modules)\"\"\"\n\u001b[0;32m---> 70\u001b[0;31m     \u001b[0;32mreturn\u001b[0m \u001b[0misinstance\u001b[0m\u001b[0;34m(\u001b[0m\u001b[0mobject\u001b[0m\u001b[0;34m,\u001b[0m \u001b[0mtypes\u001b[0m\u001b[0;34m.\u001b[0m\u001b[0mModuleType\u001b[0m\u001b[0;34m)\u001b[0m\u001b[0;34m\u001b[0m\u001b[0m\n\u001b[0m\u001b[1;32m     71\u001b[0m \u001b[0;34m\u001b[0m\u001b[0m\n\u001b[1;32m     72\u001b[0m \u001b[0;32mdef\u001b[0m \u001b[0misclass\u001b[0m\u001b[0;34m(\u001b[0m\u001b[0mobject\u001b[0m\u001b[0;34m)\u001b[0m\u001b[0;34m:\u001b[0m\u001b[0;34m\u001b[0m\u001b[0m\n",
      "\u001b[0;31mKeyboardInterrupt\u001b[0m: "
     ]
    }
   ],
   "source": [
    "filterset = {'stochastic': True}\n",
    "stochastic_strategies = axl.filtered_strategies(filterset)\n",
    "repetitions = 1000\n",
    "N = 3\n",
    "for pair in itertools.combinations(stochastic_strategies, 2):\n",
    "    names = [s.name for s in pair]\n",
    "    print(\"{} *invading* {}: diff = {}\".format(*names, compare_fixation(pair, N, repetitions=repetitions)))\n",
    "    pair = pair[::-1]\n",
    "    names = [s.name for s in pair]\n",
    "    print(\"{} *invading* {}: diff = {}\".format(*names, compare_fixation(pair, N, repetitions=repetitions)))"
   ]
  },
  {
   "cell_type": "code",
   "execution_count": 90,
   "metadata": {
    "collapsed": false
   },
   "outputs": [
    {
     "data": {
      "text/plain": [
       "0.0015516771677278607"
      ]
     },
     "execution_count": 90,
     "metadata": {},
     "output_type": "execute_result"
    }
   ],
   "source": [
    "compare_fixation((axl.TitForTat, axl.ALLCorALLD), 4, repetitions=1000)"
   ]
  },
  {
   "cell_type": "markdown",
   "metadata": {},
   "source": [
    "# Further things using the above framework:"
   ]
  },
  {
   "cell_type": "code",
   "execution_count": 27,
   "metadata": {
    "collapsed": false
   },
   "outputs": [],
   "source": [
    "def write_fixation(N):\n",
    "    \"\"\"\n",
    "    Write fixation probabilities for all \n",
    "    strategy pairs to a file called 'results/fixation_N.csv'\n",
    "    \n",
    "    File looks like:\n",
    "    \n",
    "    s1, s2, x_1, x_{N - 1}\n",
    "    \"\"\"\n",
    "    path = pathlib.Path(\"results\")\n",
    "    path.mkdir(exist_ok=True)\n",
    "    path = pathlib.Path(\"results\") / \"fixation_{}.csv\".format(N)\n",
    "\n",
    "    with path.open(\"w\") as textfile:\n",
    "        for strategy_pair in utilities:\n",
    "            if strategy_pair[0] != strategy_pair[1]:\n",
    "                fixation_probabilities = fixation(strategy_pair, N), fixation(strategy_pair[::-1], N)\n",
    "                textfile.write(\"{}, {}, {}, {}\\n\".format(*strategy_pair, *fixation_probabilities))"
   ]
  },
  {
   "cell_type": "code",
   "execution_count": 30,
   "metadata": {
    "collapsed": false
   },
   "outputs": [
    {
     "data": {
      "image/png": "[encoded data removed]",
      "text/plain": [
       "<matplotlib.figure.Figure at 0x7f64d1627160>"
      ]
     },
     "metadata": {},
     "output_type": "display_data"
    }
   ],
   "source": [
    "import matplotlib.pyplot as plt\n",
    "import seaborn as sns\n",
    "%matplotlib inline\n",
    "ns = range(5, 20)\n",
    "plt.figure()\n",
    "for i in range(1, min(ns) + 1):\n",
    "    theoretic = [i / n for n in ns]\n",
    "    calculated = [fixation((\"Cooperator\", \"Tit For Tat\"), n, i) for n in ns]\n",
    "    plt.plot(ns, theoretic, label=\"${}/N$\".format(i))\n",
    "    plt.title(\"Cooperator vs population of Tit For Tat\")\n",
    "    if i == min(ns):\n",
    "        plt.scatter(ns, calculated, label=\"Calculated\")\n",
    "    else:\n",
    "        plt.scatter(ns, calculated)\n",
    "\n",
    "    plt.xlabel(\"Population size $N$\")\n",
    "    plt.ylabel(\"Fixation probability\")\n",
    "    plt.legend();"
   ]
  },
  {
   "cell_type": "code",
   "execution_count": 31,
   "metadata": {
    "collapsed": false
   },
   "outputs": [
    {
     "data": {
      "image/png": "[encoded data removed]",
      "text/plain": [
       "<matplotlib.figure.Figure at 0x7f64c5bf1be0>"
      ]
     },
     "metadata": {},
     "output_type": "display_data"
    }
   ],
   "source": [
    "plt.figure()\n",
    "\n",
    "strategies = (\"Defector\", \"Cooperator\")\n",
    "ns = range(2, 50)\n",
    "invader = [fixation(strategies, n) for n in ns]   \n",
    "resistor = [fixation(strategies, n, n - 1) for n in ns] \n",
    "plt.title(\"{} vs population of {}\".format(*strategies))\n",
    "plt.scatter(ns, invader, label=\"$i=1$\")\n",
    "plt.scatter(ns, resistor, color=\"red\", label=\"$i=N-1$\")\n",
    "\n",
    "plt.xlabel(\"Population size $N$\")\n",
    "plt.ylabel(\"Fixation probability\")\n",
    "plt.ylim(0, 1)\n",
    "plt.xlim(min(ns), max(ns))\n",
    "plt.legend(loc=5);"
   ]
  },
  {
   "cell_type": "code",
   "execution_count": 102,
   "metadata": {
    "collapsed": false
   },
   "outputs": [
    {
     "data": {
      "image/png": "[encoded data removed]",
      "text/plain": [
       "<matplotlib.figure.Figure at 0x133f28f28>"
      ]
     },
     "metadata": {},
     "output_type": "display_data"
    }
   ],
   "source": [
    "plt.figure()\n",
    "\n",
    "strategies = (\"Defector\", \"Cooperator\")\n",
    "ns = range(2, 500)\n",
    "invader = [fixation(strategies, n, fitness_type=\"fermi\") for n in ns]   \n",
    "resistor = [fixation(strategies, n, n - 1, fitness_type=\"fermi\") for n in ns] \n",
    "plt.title(\"{} vs population of {} (fermi fitness)\".format(*strategies))\n",
    "plt.scatter(ns, invader, label=\"$i=1$\")\n",
    "plt.scatter(ns, resistor, color=\"red\", label=\"$i=N-1$\")\n",
    "\n",
    "plt.xlabel(\"Population size $N$\")\n",
    "plt.ylabel(\"Fixation probability\")\n",
    "plt.ylim(0, 1)\n",
    "plt.xlim(min(ns), max(ns))\n",
    "plt.legend(loc=5);"
   ]
  },
  {
   "cell_type": "code",
   "execution_count": 225,
   "metadata": {
    "collapsed": false
   },
   "outputs": [
    {
     "data": {
      "image/png": "[encoded data removed]",
      "text/plain": [
       "<matplotlib.figure.Figure at 0x11a219d68>"
      ]
     },
     "metadata": {},
     "output_type": "display_data"
    }
   ],
   "source": [
    "plt.figure()\n",
    "\n",
    "\n",
    "strategies = (\"Defector\", \"Tit For Tat\")\n",
    "ns = range(2, 50)\n",
    "invader = [fixation(strategies, n) for n in ns]   \n",
    "resistor = [fixation(strategies, n, n - 1) for n in ns] \n",
    "plt.title(\"{} vs population of {}\".format(*strategies))\n",
    "plt.scatter(ns, invader, label=\"$i=1$\")\n",
    "plt.scatter(ns, resistor, color=\"red\", label=\"$i=N-1$\")\n",
    "\n",
    "plt.xlabel(\"$N$\")\n",
    "plt.ylabel(\"Fixation probability\")\n",
    "plt.ylim(0, 1)\n",
    "plt.xlim(min(ns), max(ns))\n",
    "plt.legend(loc=5);"
   ]
  },
  {
   "cell_type": "code",
   "execution_count": 44,
   "metadata": {
    "collapsed": false
   },
   "outputs": [
    {
     "data": {
      "text/plain": [
       "0.135"
      ]
     },
     "execution_count": 44,
     "metadata": {},
     "output_type": "execute_result"
    }
   ],
   "source": [
    "players = [axl.Defector, axl.Cooperator]\n",
    "N, repetitions, turns, fixation_count = 10, 200, 50, 0\n",
    "for seed in range(repetitions):\n",
    "    initial_population = [players[0]()] + [players[1]()] * (N - 1)\n",
    "    mp = axl.MoranProcess(initial_population, turns=turns)\n",
    "    mp.play()\n",
    "    if mp.winning_strategy_name == \"Defector\":\n",
    "        fixation_count += 1\n",
    "fixation_count / repetitions"
   ]
  },
  {
   "cell_type": "code",
   "execution_count": null,
   "metadata": {
    "collapsed": true
   },
   "outputs": [],
   "source": []
  }
 ],
 "metadata": {
  "anaconda-cloud": {},
  "kernelspec": {
   "display_name": "Python [conda env:moran]",
   "language": "python",
   "name": "conda-env-moran-py"
  },
  "language_info": {
   "codemirror_mode": {
    "name": "ipython",
    "version": 3
   },
   "file_extension": ".py",
   "mimetype": "text/x-python",
   "name": "python",
   "nbconvert_exporter": "python",
   "pygments_lexer": "ipython3",
   "version": "3.5.2"
  }
 },
 "nbformat": 4,
 "nbformat_minor": 1
}
