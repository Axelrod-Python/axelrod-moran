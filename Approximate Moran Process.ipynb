{
 "cells": [
  {
   "cell_type": "markdown",
   "metadata": {},
   "source": [
    "Creating a class that samples from a pdf of match outcomes."
   ]
  },
  {
   "cell_type": "code",
   "execution_count": 1,
   "metadata": {
    "collapsed": true
   },
   "outputs": [],
   "source": [
    "import collections\n",
    "import random\n",
    "import axelrod as axl\n",
    "import itertools\n",
    "import tqdm\n",
    "from approximate_moran import *"
   ]
  },
  {
   "cell_type": "code",
   "execution_count": 2,
   "metadata": {
    "collapsed": false
   },
   "outputs": [],
   "source": [
    "def sample_match_outcomes(players, turns, repetitions):\n",
    "    \"\"\"\n",
    "    Play all matches between pairs of players and return a dictionary mapping player names to a Pdf instance\n",
    "    \"\"\"\n",
    "    matchups = itertools.chain(itertools.combinations(range(len(players)), 2),\n",
    "                               ((i, i) for i, _ in enumerate(players)))\n",
    "    match_outcomes = {}\n",
    "    \n",
    "    for index_pair in tqdm.tqdm(matchups):\n",
    "        outcomes = []\n",
    "        \n",
    "        for _ in range(repetitions):\n",
    "            match = axl.Match((players[index_pair[0]], players[index_pair[1]]), turns=turns)\n",
    "            match.play()\n",
    "            outcomes.append(match.final_score_per_turn())\n",
    "            \n",
    "        counts = collections.Counter(outcomes)\n",
    "        pdf = Pdf(counts)\n",
    "        \n",
    "        player_names = tuple([str(players[i]) for i in index_pair])\n",
    "        match_outcomes[player_names] = pdf\n",
    "        \n",
    "    return match_outcomes"
   ]
  },
  {
   "cell_type": "markdown",
   "metadata": {},
   "source": [
    "Creating the match outcomes:"
   ]
  },
  {
   "cell_type": "code",
   "execution_count": 3,
   "metadata": {
    "collapsed": false
   },
   "outputs": [
    {
     "name": "stderr",
     "output_type": "stream",
     "text": []
    },
    {
     "data": {
      "text/plain": [
       "{('Alternator',\n",
       "  'Alternator'): Sample space: ((2.0, 2.0),) - Probabilities: [1.0],\n",
       " ('Alternator',\n",
       "  'Anti Tit For Tat'): Sample space: ((2.0, 2.0),) - Probabilities: [1.0],\n",
       " ('Alternator',\n",
       "  'Bully'): Sample space: ((1.985, 2.01),) - Probabilities: [1.0],\n",
       " ('Alternator',\n",
       "  'Cooperator'): Sample space: ((4.0, 1.5),) - Probabilities: [1.0],\n",
       " ('Alternator',\n",
       "  'Cycler DC'): Sample space: ((2.5, 2.5),) - Probabilities: [1.0],\n",
       " ('Alternator',\n",
       "  'Defector'): Sample space: ((0.5, 3.0),) - Probabilities: [1.0],\n",
       " ('Alternator',\n",
       "  'Suspicious Tit For Tat'): Sample space: ((2.5, 2.5),) - Probabilities: [1.0],\n",
       " ('Alternator',\n",
       "  'Tit For Tat'): Sample space: ((2.515, 2.49),) - Probabilities: [1.0],\n",
       " ('Alternator',\n",
       "  'Win-Shift Lose-Stay'): Sample space: ((2.25, 2.25),) - Probabilities: [1.0],\n",
       " ('Alternator',\n",
       "  'Win-Stay Lose-Shift'): Sample space: ((2.25, 2.25),) - Probabilities: [1.0],\n",
       " ('Anti Tit For Tat',\n",
       "  'Anti Tit For Tat'): Sample space: ((2.0, 2.0),) - Probabilities: [1.0],\n",
       " ('Anti Tit For Tat',\n",
       "  'Bully'): Sample space: ((0.0, 5.0),) - Probabilities: [1.0],\n",
       " ('Anti Tit For Tat',\n",
       "  'Cooperator'): Sample space: ((4.99, 0.015),) - Probabilities: [1.0],\n",
       " ('Anti Tit For Tat',\n",
       "  'Cycler DC'): Sample space: ((1.995, 2.02),) - Probabilities: [1.0],\n",
       " ('Anti Tit For Tat',\n",
       "  'Defector'): Sample space: ((0.0, 5.0),) - Probabilities: [1.0],\n",
       " ('Anti Tit For Tat',\n",
       "  'Suspicious Tit For Tat'): Sample space: ((2.25, 2.25),) - Probabilities: [1.0],\n",
       " ('Anti Tit For Tat',\n",
       "  'Tit For Tat'): Sample space: ((2.25, 2.25),) - Probabilities: [1.0],\n",
       " ('Anti Tit For Tat',\n",
       "  'Win-Shift Lose-Stay'): Sample space: ((1.335, 3.01),) - Probabilities: [1.0],\n",
       " ('Anti Tit For Tat',\n",
       "  'Win-Stay Lose-Shift'): Sample space: ((3.01, 1.335),) - Probabilities: [1.0],\n",
       " ('Bully', 'Bully'): Sample space: ((2.0, 2.0),) - Probabilities: [1.0],\n",
       " ('Bully', 'Cooperator'): Sample space: ((5.0, 0.0),) - Probabilities: [1.0],\n",
       " ('Bully', 'Cycler DC'): Sample space: ((2.0, 2.0),) - Probabilities: [1.0],\n",
       " ('Bully', 'Defector'): Sample space: ((0.005, 4.98),) - Probabilities: [1.0],\n",
       " ('Bully',\n",
       "  'Suspicious Tit For Tat'): Sample space: ((2.25, 2.25),) - Probabilities: [1.0],\n",
       " ('Bully',\n",
       "  'Tit For Tat'): Sample space: ((2.25, 2.25),) - Probabilities: [1.0],\n",
       " ('Bully',\n",
       "  'Win-Shift Lose-Stay'): Sample space: ((1.325, 3.0),) - Probabilities: [1.0],\n",
       " ('Bully',\n",
       "  'Win-Stay Lose-Shift'): Sample space: ((3.0, 1.325),) - Probabilities: [1.0],\n",
       " ('Cooperator',\n",
       "  'Cooperator'): Sample space: ((3.0, 3.0),) - Probabilities: [1.0],\n",
       " ('Cooperator',\n",
       "  'Cycler DC'): Sample space: ((1.5, 4.0),) - Probabilities: [1.0],\n",
       " ('Cooperator',\n",
       "  'Defector'): Sample space: ((0.0, 5.0),) - Probabilities: [1.0],\n",
       " ('Cooperator',\n",
       "  'Suspicious Tit For Tat'): Sample space: ((2.985, 3.01),) - Probabilities: [1.0],\n",
       " ('Cooperator',\n",
       "  'Tit For Tat'): Sample space: ((3.0, 3.0),) - Probabilities: [1.0],\n",
       " ('Cooperator',\n",
       "  'Win-Shift Lose-Stay'): Sample space: ((1.5, 4.0),) - Probabilities: [1.0],\n",
       " ('Cooperator',\n",
       "  'Win-Stay Lose-Shift'): Sample space: ((3.0, 3.0),) - Probabilities: [1.0],\n",
       " ('Cycler DC',\n",
       "  'Cycler DC'): Sample space: ((1.0, 1.0),) - Probabilities: [1.0],\n",
       " ('Cycler DC', 'Defector'): Sample space: ((0.5, 3.0),) - Probabilities: [1.0],\n",
       " ('Cycler DC',\n",
       "  'Suspicious Tit For Tat'): Sample space: ((2.48, 2.505),) - Probabilities: [1.0],\n",
       " ('Cycler DC',\n",
       "  'Tit For Tat'): Sample space: ((2.5, 2.5),) - Probabilities: [1.0],\n",
       " ('Cycler DC',\n",
       "  'Win-Shift Lose-Stay'): Sample space: ((2.25, 2.25),) - Probabilities: [1.0],\n",
       " ('Cycler DC',\n",
       "  'Win-Stay Lose-Shift'): Sample space: ((2.25, 2.25),) - Probabilities: [1.0],\n",
       " ('Defector', 'Defector'): Sample space: ((1.0, 1.0),) - Probabilities: [1.0],\n",
       " ('Defector',\n",
       "  'Suspicious Tit For Tat'): Sample space: ((1.0, 1.0),) - Probabilities: [1.0],\n",
       " ('Defector',\n",
       "  'Tit For Tat'): Sample space: ((1.02, 0.995),) - Probabilities: [1.0],\n",
       " ('Defector',\n",
       "  'Win-Shift Lose-Stay'): Sample space: ((1.0, 1.0),) - Probabilities: [1.0],\n",
       " ('Defector',\n",
       "  'Win-Stay Lose-Shift'): Sample space: ((3.0, 0.5),) - Probabilities: [1.0],\n",
       " ('Suspicious Tit For Tat',\n",
       "  'Suspicious Tit For Tat'): Sample space: ((1.0, 1.0),) - Probabilities: [1.0],\n",
       " ('Suspicious Tit For Tat',\n",
       "  'Tit For Tat'): Sample space: ((2.5, 2.5),) - Probabilities: [1.0],\n",
       " ('Suspicious Tit For Tat',\n",
       "  'Win-Shift Lose-Stay'): Sample space: ((1.0, 1.0),) - Probabilities: [1.0],\n",
       " ('Suspicious Tit For Tat',\n",
       "  'Win-Stay Lose-Shift'): Sample space: ((2.005, 2.005),) - Probabilities: [1.0],\n",
       " ('Tit For Tat',\n",
       "  'Tit For Tat'): Sample space: ((3.0, 3.0),) - Probabilities: [1.0],\n",
       " ('Tit For Tat',\n",
       "  'Win-Shift Lose-Stay'): Sample space: ((2.665, 2.665),) - Probabilities: [1.0],\n",
       " ('Tit For Tat',\n",
       "  'Win-Stay Lose-Shift'): Sample space: ((3.0, 3.0),) - Probabilities: [1.0],\n",
       " ('Win-Shift Lose-Stay',\n",
       "  'Win-Shift Lose-Stay'): Sample space: ((1.0, 1.0),) - Probabilities: [1.0],\n",
       " ('Win-Shift Lose-Stay',\n",
       "  'Win-Stay Lose-Shift'): Sample space: ((0.025, 4.975),) - Probabilities: [1.0],\n",
       " ('Win-Stay Lose-Shift',\n",
       "  'Win-Stay Lose-Shift'): Sample space: ((3.0, 3.0),) - Probabilities: [1.0]}"
      ]
     },
     "execution_count": 3,
     "metadata": {},
     "output_type": "execute_result"
    }
   ],
   "source": [
    "players = [s() for s in axl.basic_strategies]\n",
    "\n",
    "turns = 200\n",
    "repetitions = 2 # All deterministic strategies but doing 2 anyway (to show that probabilities are all 1.0)\n",
    "\n",
    "axl.seed(0)\n",
    "match_outcomes = sample_match_outcomes(players, turns=turns, repetitions=repetitions)\n",
    "match_outcomes"
   ]
  },
  {
   "cell_type": "markdown",
   "metadata": {},
   "source": [
    "Compare the Moran process to the approximated moran process."
   ]
  },
  {
   "cell_type": "code",
   "execution_count": 4,
   "metadata": {
    "collapsed": false
   },
   "outputs": [],
   "source": [
    "def update_fixation_count(moran_process, dictionary):\n",
    "    \"\"\"\n",
    "    Play a moran process and update the \n",
    "    dictionary counting the winners\n",
    "    \"\"\"\n",
    "    moran_process.play()\n",
    "    try:\n",
    "        dictionary[moran_process.winning_strategy_name] += 1\n",
    "    except KeyError:\n",
    "        dictionary[moran_process.winning_strategy_name] = 1\n",
    "\n",
    "        \n",
    "approx_fixation_counts = {}\n",
    "exact_fixation_counts = {}\n",
    "reps = 100\n",
    "\n",
    "for seed in range(reps):\n",
    "    axl.seed(seed)\n",
    "    amp = ApproximateMoranProcess(players, match_outcomes)\n",
    "    update_fixation_count(amp, approx_fixation_counts)\n",
    "    \n",
    "    axl.seed(seed)\n",
    "    mp = axl.MoranProcess(players, turns=turns)\n",
    "    update_fixation_count(mp, exact_fixation_counts)\n",
    "\n",
    "        \n",
    "approx_fixation_probabilites = {k: v / reps for k, v in approx_fixation_counts.items()}\n",
    "exact_fixation_probabilites = {k: v / reps for k, v in exact_fixation_counts.items()}"
   ]
  },
  {
   "cell_type": "markdown",
   "metadata": {},
   "source": [
    "We see that we get the same fixation probabilities:"
   ]
  },
  {
   "cell_type": "code",
   "execution_count": 5,
   "metadata": {
    "collapsed": false
   },
   "outputs": [
    {
     "name": "stdout",
     "output_type": "stream",
     "text": [
      "Suspicious Tit For Tat: approximate=0.03 exact=0.03\n",
      "Bully: approximate=0.1 exact=0.09\n",
      "Tit For Tat: approximate=0.15 exact=0.13\n",
      "Cycler DC: approximate=0.07 exact=0.12\n",
      "Defector: approximate=0.31 exact=0.31\n",
      "Anti Tit For Tat: approximate=0.02 exact=0.01\n",
      "Win-Shift Lose-Stay: approximate=0.08 exact=0.07\n",
      "Win-Stay Lose-Shift: approximate=0.12 exact=0.12\n",
      "Cooperator: approximate=0.01 exact=0.01\n",
      "Alternator: approximate=0.11 exact=0.11\n"
     ]
    }
   ],
   "source": [
    "for key, value in approx_fixation_probabilites.items():\n",
    "    print(\"{}: approximate={} exact={}\".format(key, value, exact_fixation_probabilites[key]))"
   ]
  },
  {
   "cell_type": "code",
   "execution_count": null,
   "metadata": {
    "collapsed": true
   },
   "outputs": [],
   "source": []
  }
 ],
 "metadata": {
  "anaconda-cloud": {},
  "kernelspec": {
   "display_name": "Python [default]",
   "language": "python",
   "name": "python3"
  },
  "language_info": {
   "codemirror_mode": {
    "name": "ipython",
    "version": 3
   },
   "file_extension": ".py",
   "mimetype": "text/x-python",
   "name": "python",
   "nbconvert_exporter": "python",
   "pygments_lexer": "ipython3",
   "version": "3.5.2"
  }
 },
 "nbformat": 4,
 "nbformat_minor": 1
}
