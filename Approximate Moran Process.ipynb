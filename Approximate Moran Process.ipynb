{
 "cells": [
  {
   "cell_type": "code",
   "execution_count": null,
   "metadata": {
    "collapsed": true
   },
   "outputs": [],
   "source": [
    "Creating a class that samples from a pdf of match outcomes."
   ]
  },
  {
   "cell_type": "code",
   "execution_count": 5,
   "metadata": {
    "collapsed": true
   },
   "outputs": [],
   "source": [
    "import collections\n",
    "import itertools\n",
    "import random\n",
    "\n",
    "import tqdm\n",
    "\n",
    "import axelrod as axl\n",
    "from approximate_moran import *"
   ]
  },
  {
   "cell_type": "code",
   "execution_count": 2,
   "metadata": {
    "collapsed": false
   },
   "outputs": [],
   "source": [
    "def sample_match_outcomes(players, turns, repetitions):\n",
    "    \"\"\"\n",
    "    Play all matches between pairs of players and return a dictionary mapping player\n",
    "    names to a Pdf instance\n",
    "    \"\"\"\n",
    "    matchups = itertools.chain(itertools.combinations(range(len(players)), 2),\n",
    "                               ((i, i) for i, _ in enumerate(players)))\n",
    "    match_outcomes = {}\n",
    "    \n",
    "    for index_pair in tqdm.tqdm(matchups):\n",
    "        outcomes = []\n",
    "        \n",
    "        for _ in range(repetitions):\n",
    "            match = axl.Match((players[index_pair[0]], players[index_pair[1]]), turns=turns)\n",
    "            match.play()\n",
    "            outcomes.append(match.final_score_per_turn())\n",
    "            \n",
    "        counts = collections.Counter(outcomes)\n",
    "        pdf = Pdf(counts)\n",
    "        \n",
    "        player_names = tuple([str(players[i]) for i in index_pair])\n",
    "        match_outcomes[player_names] = pdf\n",
    "        \n",
    "    return match_outcomes"
   ]
  },
  {
   "cell_type": "markdown",
   "metadata": {},
   "source": [
    "Creating the match outcomes:"
   ]
  },
  {
   "cell_type": "code",
   "execution_count": null,
   "metadata": {
    "collapsed": false,
    "scrolled": true
   },
   "outputs": [],
   "source": [
    "# players = random.sample([s() for s in axl.long_run_time_strategies], 2)\n",
    "players = [axl.GTFT(), axl.Random(0.6)]\n",
    "\n",
    "turns = 200\n",
    "repetitions = 100\n",
    "axl.seed(0)\n",
    "match_outcomes = sample_match_outcomes(players, turns=turns, repetitions=repetitions)\n",
    "match_outcomes"
   ]
  },
  {
   "cell_type": "markdown",
   "metadata": {},
   "source": [
    "Compare the Moran process to the approximated moran process."
   ]
  },
  {
   "cell_type": "code",
   "execution_count": null,
   "metadata": {
    "collapsed": false
   },
   "outputs": [],
   "source": [
    "def update_fixation_count(moran_process, dictionary):\n",
    "    \"\"\"\n",
    "    Play a moran process and update the \n",
    "    dictionary counting the winners\n",
    "    \"\"\"\n",
    "    moran_process.play()\n",
    "    try:\n",
    "        dictionary[moran_process.winning_strategy_name] += 1\n",
    "    except KeyError:\n",
    "        dictionary[moran_process.winning_strategy_name] = 1\n",
    "\n",
    "        \n",
    "approx_fixation_counts = {}\n",
    "exact_fixation_counts = {}\n",
    "reps = 1000\n",
    "\n",
    "for seed in range(reps):\n",
    "    axl.seed(seed)\n",
    "    amp = ApproximateMoranProcess(players, match_outcomes)\n",
    "    update_fixation_count(amp, approx_fixation_counts)\n",
    "    \n",
    "    axl.seed(seed)\n",
    "    mp = axl.MoranProcess(players, turns=turns)\n",
    "    update_fixation_count(mp, exact_fixation_counts)\n",
    "\n",
    "        \n",
    "approx_fixation_probabilites = {k: v / reps for k, v in approx_fixation_counts.items()}\n",
    "exact_fixation_probabilites = {k: v / reps for k, v in exact_fixation_counts.items()}"
   ]
  },
  {
   "cell_type": "markdown",
   "metadata": {},
   "source": [
    "We see that we get the same fixation probabilities:"
   ]
  },
  {
   "cell_type": "code",
   "execution_count": 32,
   "metadata": {
    "collapsed": false
   },
   "outputs": [
    {
     "name": "stdout",
     "output_type": "stream",
     "text": [
      "Random: 0.6: approximate=0.564 exact=0.571\n",
      "GTFT: 0.33: approximate=0.436 exact=0.429\n"
     ]
    }
   ],
   "source": [
    "for key, value in approx_fixation_probabilites.items():\n",
    "    print(\"{}: approximate={} exact={}\".format(key, value, exact_fixation_probabilites[key]))"
   ]
  },
  {
   "cell_type": "code",
   "execution_count": 13,
   "metadata": {
    "collapsed": true
   },
   "outputs": [],
   "source": [
    "players = random.sample(axl.strategies, 10)"
   ]
  },
  {
   "cell_type": "code",
   "execution_count": null,
   "metadata": {
    "collapsed": true
   },
   "outputs": [],
   "source": [
    "%%time\n",
    "axl.seed(100)\n",
    "amp = ApproximateMoranProcess(players, match_outcomes)\n",
    "amp.play()"
   ]
  },
  {
   "cell_type": "code",
   "execution_count": 15,
   "metadata": {
    "collapsed": false
   },
   "outputs": [
    {
     "name": "stdout",
     "output_type": "stream",
     "text": [
      "CPU times: user 472 ms, sys: 0 ns, total: 472 ms\n",
      "Wall time: 470 ms\n"
     ]
    }
   ],
   "source": [
    "%%time\n",
    "axl.seed(100)\n",
    "mp = axl.MoranProcess(players, turns=turns)\n",
    "mp.play()"
   ]
  },
  {
   "cell_type": "markdown",
   "metadata": {},
   "source": [
    "## Todo\n",
    "\n",
    "Compute match data.\n",
    "\n",
    "For the players in a Moran process, extract the subset of interaction pairs, compute the cumulative sums, and provide an object wrapping the sampling procedure\n",
    "\n",
    "Compute Moran matches"
   ]
  },
  {
   "cell_type": "code",
   "execution_count": 38,
   "metadata": {
    "collapsed": true
   },
   "outputs": [],
   "source": [
    "def generate_matchups(players):\n",
    "    # Want the triangular product\n",
    "    for i in range(len(players)):\n",
    "        for j in range(i, len(players)):\n",
    "            if i == j:\n",
    "                yield players[i].clone(), players[j]\n",
    "            else:\n",
    "                yield players[i], players[j]\n",
    "\n",
    "def sample_match_outcomes(players, turns, repetitions, noise=0):\n",
    "    \"\"\"\n",
    "    Play all matches between pairs of players and return a dictionary mapping player\n",
    "    names to outcomes.\n",
    "    \"\"\"\n",
    "    match_outcomes = dict()\n",
    "    matchups = list(generate_matchups(players))\n",
    "\n",
    "    for pairs in tqdm.tqdm(matchups):\n",
    "        \n",
    "        match = axl.Match(pairs, turns=turns, noise=noise)\n",
    "        rs = repetitions\n",
    "        if not match._stochastic:\n",
    "            rs = 1\n",
    "        outcomes = []\n",
    "        for _ in range(rs):\n",
    "            match.play()\n",
    "            outcomes.append(match.final_score_per_turn())\n",
    "            \n",
    "        counts = collections.Counter(outcomes)\n",
    "        \n",
    "        player_names = tuple(map(str, pairs))\n",
    "        match_outcomes[player_names] = counts\n",
    "\n",
    "    return match_outcomes"
   ]
  },
  {
   "cell_type": "code",
   "execution_count": 16,
   "metadata": {
    "collapsed": false
   },
   "outputs": [],
   "source": [
    "# class Sampler(object):\n",
    "#     \"\"\"ToDo: Make into factory that returns subobject for specific pairs.\"\"\"\n",
    "    \n",
    "#     def __init__(self, outcomes):\n",
    "#         self.csums = {}\n",
    "#         for pair, counter in outcomes.items():\n",
    "#             self.csums[pair] = np.cumsum(normalize([v for k,v in sorted(counter.items())]))\n",
    "#             self.outcomes[pair] = [k for k, v in sorted(counter.items())]\n",
    "\n",
    "#     @classmethod\n",
    "#     def fps(csums):\n",
    "#         r = random.random()\n",
    "#         for j, x in enumerate(csums):\n",
    "#             if x >= r:\n",
    "#                 return j\n",
    "\n",
    "#     # Memoize?\n",
    "#     def get_data(self, pair):\n",
    "#         try:\n",
    "#             csums = self.csums[pair]\n",
    "#             outcomes = self.outcomes[pairs]\n",
    "#             reverse = False\n",
    "#         except KeyError:\n",
    "#             try:\n",
    "#                 pair_ = (pair[1], pair[0])\n",
    "#                 csums = self.csums[pair]\n",
    "#                 outcomes = self.outcomes[pairs]\n",
    "#                 reverse = True\n",
    "#             except KeyError:\n",
    "#                 print(\"No cached data for pair {}\".format(pair))\n",
    "#                 raise ValueError\n",
    "#         return csums, outcomes, reverse\n",
    "    \n",
    "#     def sample(self, pair):\n",
    "#         # Need to reverse\n",
    "#         csums, outcomes, reverse =  self.get_data(pair)\n",
    "#         scores = self.outcomes[self.fps(csums)]\n",
    "#         if reverse:\n",
    "#             scores = [scores[1], scores[0]]\n",
    "#         return scores"
   ]
  },
  {
   "cell_type": "code",
   "execution_count": 23,
   "metadata": {
    "collapsed": true
   },
   "outputs": [],
   "source": [
    "class Sampler(object):\n",
    "    \"\"\"Extracts the data for the player pair from the cached outcomes and provides\n",
    "    a sampleable PDF of the score distribution.\"\"\"\n",
    "    \n",
    "    def __init__(self, outcomes, pair_names):\n",
    "        counter, reverse = self.extract_data(outcomes, pair_names)\n",
    "        self.csums = np.cumsum(normalize([v for k,v in sorted(counter.items())]))\n",
    "        self.scores = [k for k, v in sorted(counter.items())]\n",
    "        self.reverse = reverse\n",
    "        \n",
    "    def extract_data(self, outcomes, pair):\n",
    "        try:\n",
    "            outcomes = self.outcomes[pairs]\n",
    "            reverse = False\n",
    "        except KeyError:\n",
    "            try:\n",
    "                pair_ = (pair[1], pair[0])\n",
    "                outcomes = self.outcomes[pair]\n",
    "                reverse = True\n",
    "            except KeyError:\n",
    "                print(\"No cached data for pair {}\".format(pair))\n",
    "                raise ValueError\n",
    "        return outcomes, reverse\n",
    "        \n",
    "    @classmethod\n",
    "    def fps(csums):\n",
    "        r = random.random()\n",
    "        for j, x in enumerate(csums):\n",
    "            if x >= r:\n",
    "                return j\n",
    "    \n",
    "    def sample(self, pair):\n",
    "        # Need to reverse\n",
    "        scores = self.scores[self.fps(self.csums)]\n",
    "        if reverse:\n",
    "            scores = [scores[1], scores[0]]\n",
    "        return scores"
   ]
  },
  {
   "cell_type": "code",
   "execution_count": null,
   "metadata": {
    "collapsed": false
   },
   "outputs": [],
   "source": [
    "# players = [s() for s in axl.all_strategies if not\n",
    "#                             s().classifier['long_run_time']]\n",
    "players = [s() for s in axl.all_strategies if\n",
    "           not s().classifier['stochastic']\n",
    "           and not s().classifier['long_run_time']]\n",
    "\n",
    "print(len(list(map(str, players))))\n",
    "\n",
    "counters = sample_match_outcomes(players, turns=200, repetitions=10)"
   ]
  },
  {
   "cell_type": "code",
   "execution_count": null,
   "metadata": {
    "collapsed": false
   },
   "outputs": [],
   "source": [
    "counters"
   ]
  },
  {
   "cell_type": "code",
   "execution_count": 35,
   "metadata": {
    "collapsed": false
   },
   "outputs": [],
   "source": [
    "import csv\n",
    "from collections import defaultdict, Counter\n",
    "\n",
    "def write_csv(outcomes, filename=\"outcomes.csv\"):\n",
    "    writer = csv.writer(open(filename, 'w'))\n",
    "    for pair, counter in outcomes.items():\n",
    "        for scores, count in counter.items():\n",
    "            row = [pair[0], pair[1], scores[0], scores[1], count]\n",
    "            writer.writerow(row)\n",
    "\n",
    "def read_csv(filename=\"outcomes.csv\"):\n",
    "    reader = csv.reader(open(filename))\n",
    "    outcomes = defaultdict(Counter)\n",
    "    for row in reader:\n",
    "        p1, p2, s1, s2, count = row\n",
    "        outcomes[(p1, p2)][(float(s1), float(s2))] = int(count)\n",
    "    return outcomes"
   ]
  },
  {
   "cell_type": "code",
   "execution_count": 36,
   "metadata": {
    "collapsed": false
   },
   "outputs": [],
   "source": [
    "write_csv(counters)"
   ]
  },
  {
   "cell_type": "code",
   "execution_count": null,
   "metadata": {
    "collapsed": false
   },
   "outputs": [],
   "source": [
    "counters2 = read_csv(counters)"
   ]
  },
  {
   "cell_type": "code",
   "execution_count": null,
   "metadata": {
    "collapsed": true
   },
   "outputs": [],
   "source": []
  }
 ],
 "metadata": {
  "anaconda-cloud": {},
  "kernelspec": {
   "display_name": "Python [Root]",
   "language": "python",
   "name": "Python [Root]"
  },
  "language_info": {
   "codemirror_mode": {
    "name": "ipython",
    "version": 3
   },
   "file_extension": ".py",
   "mimetype": "text/x-python",
   "name": "python",
   "nbconvert_exporter": "python",
   "pygments_lexer": "ipython3",
   "version": "3.5.2"
  }
 },
 "nbformat": 4,
 "nbformat_minor": 1
}
