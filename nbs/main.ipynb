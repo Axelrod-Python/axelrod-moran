{
 "cells": [
  {
   "cell_type": "markdown",
   "metadata": {},
   "source": [
    "# A numerical study of fixation probabilities for strategies in the Prisoners  Dilemma\n",
    "\n",
    "This notebook contains all the Python code used to generate the plots and figures for the paper.\n",
    "\n",
    "Here are the versions of the various libraries used:"
   ]
  },
  {
   "cell_type": "code",
   "execution_count": 174,
   "metadata": {},
   "outputs": [
    {
     "data": {
      "text/plain": [
       "('2.8.0', '0.19.2', '2.0.0', '0.7.1')"
      ]
     },
     "execution_count": 174,
     "metadata": {},
     "output_type": "execute_result"
    }
   ],
   "source": [
    "%matplotlib inline\n",
    "\n",
    "import axelrod as axl\n",
    "import pandas as pd\n",
    "import matplotlib\n",
    "import matplotlib.pyplot as plt\n",
    "import seaborn as sns\n",
    "\n",
    "import imp\n",
    "players = imp.load_source('players', '../src/players.py')\n",
    "\n",
    "axl.__version__, pd.__version__, matplotlib.__version__, sns.__version__"
   ]
  },
  {
   "cell_type": "markdown",
   "metadata": {},
   "source": [
    "## Description of the used strategies"
   ]
  },
  {
   "cell_type": "markdown",
   "metadata": {},
   "source": [
    "Here are all the strategies used in this experiment:"
   ]
  },
  {
   "cell_type": "code",
   "execution_count": 157,
   "metadata": {},
   "outputs": [],
   "source": [
    "from players import selected_players\n",
    "players = selected_players()"
   ]
  },
  {
   "cell_type": "code",
   "execution_count": 158,
   "metadata": {},
   "outputs": [
    {
     "data": {
      "text/plain": [
       "[Adaptive,\n",
       " Adaptive Tit For Tat: 0.5,\n",
       " Aggravater,\n",
       " ALLCorALLD,\n",
       " Alternator,\n",
       " Alternator Hunter,\n",
       " AntiCycler,\n",
       " Anti Tit For Tat,\n",
       " Adaptive Pavlov 2006,\n",
       " Adaptive Pavlov 2011,\n",
       " Appeaser,\n",
       " Arrogant QLearner,\n",
       " Average Copier,\n",
       " Better and Better,\n",
       " BackStabber: ('D', 'D'),\n",
       " Bully,\n",
       " Calculator,\n",
       " Cautious QLearner,\n",
       " Champion,\n",
       " CollectiveStrategy,\n",
       " Contrite Tit For Tat,\n",
       " Cooperator,\n",
       " Cooperator Hunter,\n",
       " Cycle Hunter,\n",
       " Cycler CCCCCD,\n",
       " Cycler CCCD,\n",
       " Cycler CCD,\n",
       " Cycler DC,\n",
       " Cycler DDC,\n",
       " Cycler CCCDCD,\n",
       " Davis: 10,\n",
       " Defector,\n",
       " Defector Hunter,\n",
       " Desperate,\n",
       " DoubleCrosser: ('D', 'D'),\n",
       " Doubler,\n",
       " EasyGo,\n",
       " Eatherley,\n",
       " Eventual Cycle Hunter,\n",
       " Evolved ANN,\n",
       " Evolved ANN 5,\n",
       " Evolved ANN 5 Noise 05,\n",
       " Evolved FSM 4,\n",
       " Evolved FSM 16,\n",
       " Evolved FSM 16 Noise 05,\n",
       " EvolvedLookerUp1_1_1,\n",
       " EvolvedLookerUp2_2_2,\n",
       " Evolved HMM 5,\n",
       " Feld: 1.0, 0.5, 200,\n",
       " Firm But Fair,\n",
       " Fool Me Forever,\n",
       " Fool Me Once,\n",
       " Forgetful Fool Me Once: 0.05,\n",
       " Forgetful Grudger,\n",
       " Forgiver,\n",
       " Forgiving Tit For Tat,\n",
       " Fortress3,\n",
       " Fortress4,\n",
       " GTFT: 0.33,\n",
       " General Soft Grudger: n=1,d=4,c=2,\n",
       " Soft Go By Majority,\n",
       " Soft Go By Majority: 10,\n",
       " Soft Go By Majority: 20,\n",
       " Soft Go By Majority: 40,\n",
       " Soft Go By Majority: 5,\n",
       " $\\phi$,\n",
       " Gradual,\n",
       " Gradual Killer: ('D', 'D', 'D', 'D', 'D', 'C', 'C'),\n",
       " Grofman,\n",
       " Grudger,\n",
       " GrudgerAlternator,\n",
       " Grumpy: Nice, 10, -10,\n",
       " Handshake,\n",
       " Hard Go By Majority,\n",
       " Hard Go By Majority: 10,\n",
       " Hard Go By Majority: 20,\n",
       " Hard Go By Majority: 40,\n",
       " Hard Go By Majority: 5,\n",
       " Hard Prober,\n",
       " Hard Tit For 2 Tats,\n",
       " Hard Tit For Tat,\n",
       " Hesitant QLearner,\n",
       " Hopeless,\n",
       " Inverse,\n",
       " Inverse Punisher,\n",
       " Joss: 0.9,\n",
       " Knowledgeable Worse and Worse,\n",
       " Level Punisher,\n",
       " Limited Retaliate: 0.1, 20,\n",
       " Limited Retaliate 2: 0.08, 15,\n",
       " Limited Retaliate 3: 0.05, 20,\n",
       " Math Constant Hunter,\n",
       " Naive Prober: 0.1,\n",
       " MEM2,\n",
       " Negation,\n",
       " Nice Average Copier,\n",
       " Nydegger,\n",
       " Omega TFT: 3, 8,\n",
       " Once Bitten,\n",
       " Opposite Grudger,\n",
       " $\\pi$,\n",
       " Predator,\n",
       " Prober,\n",
       " Prober 2,\n",
       " Prober 3,\n",
       " Prober 4,\n",
       " Pun1,\n",
       " PSO Gambler 1_1_1,\n",
       " PSO Gambler 2_2_2,\n",
       " PSO Gambler 2_2_2 Noise 05,\n",
       " PSO Gambler Mem1,\n",
       " Punisher,\n",
       " Raider,\n",
       " Random: 0.5,\n",
       " Random Hunter,\n",
       " Remorseful Prober: 0.1,\n",
       " Resurrection,\n",
       " Retaliate: 0.1,\n",
       " Retaliate 2: 0.08,\n",
       " Retaliate 3: 0.05,\n",
       " Revised Downing: True,\n",
       " Ripoff,\n",
       " Risky QLearner,\n",
       " SelfSteem,\n",
       " ShortMem,\n",
       " Shubik,\n",
       " Slow Tit For Two Tats,\n",
       " Slow Tit For Two Tats 2,\n",
       " Sneaky Tit For Tat,\n",
       " Soft Grudger,\n",
       " Soft Joss: 0.9,\n",
       " SolutionB1,\n",
       " SolutionB5,\n",
       " Spiteful Tit For Tat,\n",
       " Stalker: D,\n",
       " Stochastic Cooperator,\n",
       " Stochastic WSLS: 0.05,\n",
       " Suspicious Tit For Tat,\n",
       " Tester,\n",
       " ThueMorse,\n",
       " ThueMorseInverse,\n",
       " Thumper,\n",
       " Tit For Tat,\n",
       " Tit For 2 Tats,\n",
       " Tricky Cooperator,\n",
       " Tricky Defector,\n",
       " Tullock: 11,\n",
       " Two Tits For Tat,\n",
       " VeryBad,\n",
       " Willing,\n",
       " Winner12,\n",
       " Winner21,\n",
       " Win-Shift Lose-Stay: D,\n",
       " Win-Stay Lose-Shift: C,\n",
       " Worse and Worse,\n",
       " Worse and Worse 2,\n",
       " Worse and Worse 3,\n",
       " ZD-Extort-2: 0.1111111111111111, 0.5,\n",
       " ZD-Extort-2 v2: 0.125, 0.5, 1,\n",
       " ZD-Extort-4: 0.23529411764705882, 0.25, 1,\n",
       " ZD-GTFT-2: 0.25, 0.5,\n",
       " ZD-GEN-2: 0.125, 0.5, 3,\n",
       " ZD-SET-2: 0.25, 0.0, 2,\n",
       " $e$,\n",
       " Meta Hunter: 6 players,\n",
       " Meta Hunter Aggressive: 7 players,\n",
       " Meta Majority Memory One: 31 players,\n",
       " Meta Winner Memory One: 31 players,\n",
       " NMWE Memory One: 31 players,\n",
       " FSM Player: [(0, 'C', 7, 'C'), (0, 'D', 1, 'C'), (1, 'C', 11, 'D'), (1, 'D', 11, 'D'), (2, 'C', 8, 'D'), (2, 'D', 8, 'C'), (3, 'C', 3, 'C'), (3, 'D', 12, 'D'), (4, 'C', 6, 'C'), (4, 'D', 3, 'C'), (5, 'C', 11, 'C'), (5, 'D', 8, 'D'), (6, 'C', 13, 'D'), (6, 'D', 14, 'C'), (7, 'C', 4, 'D'), (7, 'D', 2, 'D'), (8, 'C', 14, 'D'), (8, 'D', 8, 'D'), (9, 'C', 0, 'C'), (9, 'D', 10, 'D'), (10, 'C', 8, 'C'), (10, 'D', 15, 'C'), (11, 'C', 6, 'D'), (11, 'D', 5, 'D'), (12, 'C', 6, 'D'), (12, 'D', 9, 'D'), (13, 'C', 9, 'D'), (13, 'D', 8, 'D'), (14, 'C', 8, 'D'), (14, 'D', 13, 'D'), (15, 'C', 4, 'C'), (15, 'D', 5, 'C')],\n",
       " FSM Player: [(0, 'C', 13, 'D'), (0, 'D', 12, 'D'), (1, 'C', 3, 'D'), (1, 'D', 4, 'D'), (2, 'C', 14, 'D'), (2, 'D', 9, 'D'), (3, 'C', 0, 'C'), (3, 'D', 1, 'D'), (4, 'C', 1, 'D'), (4, 'D', 2, 'D'), (5, 'C', 12, 'C'), (5, 'D', 6, 'C'), (6, 'C', 1, 'C'), (6, 'D', 14, 'D'), (7, 'C', 12, 'D'), (7, 'D', 2, 'D'), (8, 'C', 7, 'D'), (8, 'D', 9, 'D'), (9, 'C', 8, 'D'), (9, 'D', 0, 'D'), (10, 'C', 2, 'C'), (10, 'D', 15, 'C'), (11, 'C', 7, 'D'), (11, 'D', 13, 'D'), (12, 'C', 3, 'C'), (12, 'D', 8, 'D'), (13, 'C', 7, 'C'), (13, 'D', 10, 'D'), (14, 'C', 10, 'D'), (14, 'D', 7, 'D'), (15, 'C', 15, 'C'), (15, 'D', 11, 'D')],\n",
       " FSM Player: [(0, 'C', 0, 'C'), (0, 'D', 3, 'C'), (1, 'C', 5, 'D'), (1, 'D', 0, 'C'), (2, 'C', 3, 'C'), (2, 'D', 2, 'D'), (3, 'C', 4, 'D'), (3, 'D', 6, 'D'), (4, 'C', 3, 'C'), (4, 'D', 1, 'D'), (5, 'C', 6, 'C'), (5, 'D', 3, 'D'), (6, 'C', 6, 'D'), (6, 'D', 6, 'D'), (7, 'C', 7, 'D'), (7, 'D', 5, 'C')]]"
      ]
     },
     "execution_count": 158,
     "metadata": {},
     "output_type": "execute_result"
    }
   ],
   "source": [
    "players"
   ]
  },
  {
   "cell_type": "code",
   "execution_count": 159,
   "metadata": {},
   "outputs": [],
   "source": [
    "with open(\"../tbl/list_of_players.tex\", \"w\") as f:\n",
    "    for player in players:\n",
    "        latex_name = \"{}\\n\".format(player).replace(\"_\", \"\\_\")\n",
    "        f.write(\"\\item {}\".format(latex_name))"
   ]
  },
  {
   "cell_type": "markdown",
   "metadata": {},
   "source": [
    "Here are some summary information about the strategies"
   ]
  },
  {
   "cell_type": "code",
   "execution_count": 160,
   "metadata": {},
   "outputs": [],
   "source": [
    "def clean_mem(n):\n",
    "    try:\n",
    "        return int(n)\n",
    "    except OverflowError:\n",
    "        return -1\n",
    "\n",
    "df = pd.DataFrame([[p, p.classifier[\"stochastic\"], clean_mem(p.classifier['memory_depth'])] \n",
    "                   for p in players], \n",
    "                  columns=[\"Player\", \"Stochastic\", \"Memory Depth\"])"
   ]
  },
  {
   "cell_type": "code",
   "execution_count": 161,
   "metadata": {},
   "outputs": [
    {
     "data": {
      "text/html": [
       "<div>\n",
       "<table border=\"1\" class=\"dataframe\">\n",
       "  <thead>\n",
       "    <tr style=\"text-align: right;\">\n",
       "      <th></th>\n",
       "      <th>Stochastic</th>\n",
       "      <th>Count</th>\n",
       "    </tr>\n",
       "  </thead>\n",
       "  <tbody>\n",
       "    <tr>\n",
       "      <th>0</th>\n",
       "      <td>False</td>\n",
       "      <td>123</td>\n",
       "    </tr>\n",
       "    <tr>\n",
       "      <th>1</th>\n",
       "      <td>True</td>\n",
       "      <td>49</td>\n",
       "    </tr>\n",
       "  </tbody>\n",
       "</table>\n",
       "</div>"
      ],
      "text/plain": [
       "  Stochastic  Count\n",
       "0      False    123\n",
       "1       True     49"
      ]
     },
     "execution_count": 161,
     "metadata": {},
     "output_type": "execute_result"
    }
   ],
   "source": [
    "t_df = pd.DataFrame(df.groupby(\"Stochastic\")[\"Player\"].count()).reset_index().rename(columns={\"Player\": \"Count\"})\n",
    "t_df"
   ]
  },
  {
   "cell_type": "code",
   "execution_count": 162,
   "metadata": {
    "collapsed": true
   },
   "outputs": [],
   "source": [
    "with open(\"../tbl/stochastic_count.tex\", \"w\") as f:\n",
    "    f.write(t_df.to_latex(index=False))"
   ]
  },
  {
   "cell_type": "code",
   "execution_count": 163,
   "metadata": {},
   "outputs": [
    {
     "data": {
      "text/html": [
       "<div>\n",
       "<table border=\"1\" class=\"dataframe\">\n",
       "  <thead>\n",
       "    <tr style=\"text-align: right;\">\n",
       "      <th>Memory Depth</th>\n",
       "      <th>0</th>\n",
       "      <th>1</th>\n",
       "      <th>2</th>\n",
       "      <th>3</th>\n",
       "      <th>4</th>\n",
       "      <th>5</th>\n",
       "      <th>6</th>\n",
       "      <th>9</th>\n",
       "      <th>10</th>\n",
       "      <th>11</th>\n",
       "      <th>12</th>\n",
       "      <th>16</th>\n",
       "      <th>20</th>\n",
       "      <th>40</th>\n",
       "      <th>200</th>\n",
       "      <th>-1</th>\n",
       "    </tr>\n",
       "  </thead>\n",
       "  <tbody>\n",
       "    <tr>\n",
       "      <th>Count</th>\n",
       "      <td>3</td>\n",
       "      <td>31</td>\n",
       "      <td>12</td>\n",
       "      <td>8</td>\n",
       "      <td>2</td>\n",
       "      <td>6</td>\n",
       "      <td>1</td>\n",
       "      <td>1</td>\n",
       "      <td>5</td>\n",
       "      <td>1</td>\n",
       "      <td>1</td>\n",
       "      <td>2</td>\n",
       "      <td>2</td>\n",
       "      <td>2</td>\n",
       "      <td>1</td>\n",
       "      <td>94</td>\n",
       "    </tr>\n",
       "  </tbody>\n",
       "</table>\n",
       "</div>"
      ],
      "text/plain": [
       "Memory Depth   0     1     2     3     4     5     6     9     10    11   \\\n",
       "Count            3    31    12     8     2     6     1     1     5     1   \n",
       "\n",
       "Memory Depth   12    16    20    40    200  -1    \n",
       "Count            1     2     2     2     1    94  "
      ]
     },
     "execution_count": 163,
     "metadata": {},
     "output_type": "execute_result"
    }
   ],
   "source": [
    "t_df = pd.DataFrame(df.groupby(\"Memory Depth\")[\"Player\"].count()).transpose()\n",
    "t_df.rename(index={\"Player\": \"Count\"}, inplace=True)\n",
    "cols = t_df.columns.tolist()\n",
    "t_df = t_df[cols[1:] + [cols[0]]]\n",
    "t_df"
   ]
  },
  {
   "cell_type": "code",
   "execution_count": 164,
   "metadata": {},
   "outputs": [],
   "source": [
    "with open(\"../tbl/memory_depth_count.tex\", \"w\") as f:\n",
    "    string = t_df.to_latex().replace(\"-1\", \"\\(\\infty\\)\")\n",
    "    f.write(string)"
   ]
  },
  {
   "cell_type": "markdown",
   "metadata": {},
   "source": [
    "## Illustrating the Approximate moran process"
   ]
  },
  {
   "cell_type": "code",
   "execution_count": 183,
   "metadata": {
    "collapsed": true
   },
   "outputs": [],
   "source": [
    "df = pd.read_csv(\"../data/outcomes.csv\", header=None, names=[\"Player 1\", \"Player 2\", \n",
    "                                                             \"Score 1\", \"Score 2\", \n",
    "                                                             \"Iteration\"])"
   ]
  },
  {
   "cell_type": "markdown",
   "metadata": {},
   "source": [
    "Get the counts of each number of "
   ]
  },
  {
   "cell_type": "code",
   "execution_count": 184,
   "metadata": {
    "collapsed": true
   },
   "outputs": [],
   "source": [
    "t_df = pd.DataFrame(df.groupby([\"Player 1\", \"Player 2\"]).count()).reset_index()"
   ]
  },
  {
   "cell_type": "code",
   "execution_count": 185,
   "metadata": {},
   "outputs": [
    {
     "data": {
      "text/plain": [
       "Player 1    Arrogant QLearner\n",
       "Player 2     PSO Gambler Mem1\n",
       "Name: 318, dtype: object"
      ]
     },
     "execution_count": 185,
     "metadata": {},
     "output_type": "execute_result"
    }
   ],
   "source": [
    "max_pair = t_df.iloc[t_df[\"Score 1\"].idxmax()][:2]\n",
    "max_pair"
   ]
  },
  {
   "cell_type": "code",
   "execution_count": 186,
   "metadata": {},
   "outputs": [
    {
     "data": {
      "text/plain": [
       "Player 1    Adaptive\n",
       "Player 2      $\\phi$\n",
       "Name: 0, dtype: object"
      ]
     },
     "execution_count": 186,
     "metadata": {},
     "output_type": "execute_result"
    }
   ],
   "source": [
    "min_pair = t_df.iloc[t_df[\"Score 1\"].idxmin()][:2]\n",
    "min_pair"
   ]
  },
  {
   "cell_type": "code",
   "execution_count": 216,
   "metadata": {},
   "outputs": [
    {
     "data": {
      "image/png": "[encoded data removed]",
      "text/plain": [
       "<matplotlib.figure.Figure at 0x7f6436c3f978>"
      ]
     },
     "metadata": {},
     "output_type": "display_data"
    }
   ],
   "source": [
    "t_df = df[(df[\"Player 1\"] == max_pair[0]) & (df[\"Player 2\"] == max_pair[1])]\n",
    "\n",
    "def N(x, y):\n",
    "    return len(x)\n",
    "\n",
    "sns.set(style=\"white\", color_codes=True)\n",
    "ax = sns.jointplot(t_df[\"Score 1\"], t_df[\"Score 2\"], stat_func=N, \n",
    "                   kind=\"hex\", xlim=(0, 5), ylim=(0,5))\n",
    "ax.set_axis_labels(*[\"\\'{}\\' score\".format(max_pair[i]) for i in range(2)])\n",
    "ax.savefig(\"../img/players_with_most_scores.pdf\");"
   ]
  },
  {
   "cell_type": "code",
   "execution_count": 209,
   "metadata": {},
   "outputs": [
    {
     "data": {
      "text/plain": [
       "6817"
      ]
     },
     "execution_count": 209,
     "metadata": {},
     "output_type": "execute_result"
    }
   ],
   "source": [
    "len(t_df[\"Score 1\"])"
   ]
  },
  {
   "cell_type": "code",
   "execution_count": null,
   "metadata": {
    "collapsed": true
   },
   "outputs": [],
   "source": []
  }
 ],
 "metadata": {
  "anaconda-cloud": {},
  "kernelspec": {
   "display_name": "Python [conda env:moran]",
   "language": "python",
   "name": "conda-env-moran-py"
  },
  "language_info": {
   "codemirror_mode": {
    "name": "ipython",
    "version": 3
   },
   "file_extension": ".py",
   "mimetype": "text/x-python",
   "name": "python",
   "nbconvert_exporter": "python",
   "pygments_lexer": "ipython3",
   "version": "3.6.1"
  }
 },
 "nbformat": 4,
 "nbformat_minor": 2
}
