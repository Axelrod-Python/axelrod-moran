{
 "cells": [
  {
   "cell_type": "code",
   "execution_count": 22,
   "metadata": {
    "collapsed": true
   },
   "outputs": [],
   "source": [
    "import pandas as pd"
   ]
  },
  {
   "cell_type": "code",
   "execution_count": 81,
   "metadata": {
    "collapsed": false
   },
   "outputs": [],
   "source": [
    "df = pd.read_csv(\"outcomes.csv\", header=None)\n",
    "df.columns = [\"strategy 1\", \"strategy 2\", \"score 1\", \"score 2\", \"count\"]"
   ]
  },
  {
   "cell_type": "code",
   "execution_count": 82,
   "metadata": {
    "collapsed": false
   },
   "outputs": [
    {
     "data": {
      "text/html": [
       "<div>\n",
       "<table border=\"1\" class=\"dataframe\">\n",
       "  <thead>\n",
       "    <tr style=\"text-align: right;\">\n",
       "      <th></th>\n",
       "      <th>score 1</th>\n",
       "      <th>score 2</th>\n",
       "      <th>count</th>\n",
       "    </tr>\n",
       "  </thead>\n",
       "  <tbody>\n",
       "    <tr>\n",
       "      <th>count</th>\n",
       "      <td>794731.000000</td>\n",
       "      <td>794731.000000</td>\n",
       "      <td>794731.000000</td>\n",
       "    </tr>\n",
       "    <tr>\n",
       "      <th>mean</th>\n",
       "      <td>2.210296</td>\n",
       "      <td>2.274771</td>\n",
       "      <td>5.546594</td>\n",
       "    </tr>\n",
       "    <tr>\n",
       "      <th>std</th>\n",
       "      <td>0.749463</td>\n",
       "      <td>0.879763</td>\n",
       "      <td>41.762043</td>\n",
       "    </tr>\n",
       "    <tr>\n",
       "      <th>min</th>\n",
       "      <td>0.000000</td>\n",
       "      <td>0.000000</td>\n",
       "      <td>1.000000</td>\n",
       "    </tr>\n",
       "    <tr>\n",
       "      <th>25%</th>\n",
       "      <td>1.720000</td>\n",
       "      <td>1.595000</td>\n",
       "      <td>1.000000</td>\n",
       "    </tr>\n",
       "    <tr>\n",
       "      <th>50%</th>\n",
       "      <td>2.180000</td>\n",
       "      <td>2.320000</td>\n",
       "      <td>1.000000</td>\n",
       "    </tr>\n",
       "    <tr>\n",
       "      <th>75%</th>\n",
       "      <td>2.665000</td>\n",
       "      <td>2.920000</td>\n",
       "      <td>3.000000</td>\n",
       "    </tr>\n",
       "    <tr>\n",
       "      <th>max</th>\n",
       "      <td>5.000000</td>\n",
       "      <td>5.000000</td>\n",
       "      <td>1000.000000</td>\n",
       "    </tr>\n",
       "  </tbody>\n",
       "</table>\n",
       "</div>"
      ],
      "text/plain": [
       "             score 1        score 2          count\n",
       "count  794731.000000  794731.000000  794731.000000\n",
       "mean        2.210296       2.274771       5.546594\n",
       "std         0.749463       0.879763      41.762043\n",
       "min         0.000000       0.000000       1.000000\n",
       "25%         1.720000       1.595000       1.000000\n",
       "50%         2.180000       2.320000       1.000000\n",
       "75%         2.665000       2.920000       3.000000\n",
       "max         5.000000       5.000000    1000.000000"
      ]
     },
     "execution_count": 82,
     "metadata": {},
     "output_type": "execute_result"
    }
   ],
   "source": [
    "df.describe()"
   ]
  },
  {
   "cell_type": "markdown",
   "metadata": {},
   "source": [
    "Creating a dictionary `f` that maps a name of strategy tuples to the mean utility for that matchup:\n"
   ]
  },
  {
   "cell_type": "code",
   "execution_count": 83,
   "metadata": {
    "collapsed": false
   },
   "outputs": [],
   "source": [
    "def r(*scores):\n",
    "    \"\"\"\n",
    "    Calculate the fitness ratio r based on the utility of two strategies.\n",
    "    \n",
    "    Returns the tuple of fitness ratios (first element is inverse of second).\n",
    "    \"\"\"\n",
    "    \n",
    "    if scores[1] == 0:\n",
    "        # The second strategy scores 0\n",
    "        # Returns inf, 0\n",
    "        r = float('inf')\n",
    "        return r, 1 / r\n",
    "    elif scores[0] == 0:\n",
    "        # The first strategy scores 0\n",
    "        # Returns 0, inf\n",
    "        invr = float('inf')\n",
    "        return 1 / invr, invr\n",
    "    else:\n",
    "        r = scores[0] / scores[1]\n",
    "        return r, 1/r\n",
    "        \n",
    "fitness = {pair: r(f[\"score 1\"].mean(), f[\"score 2\"].mean()) \n",
    "           for pair, f in df.groupby([\"strategy 1\", \"strategy 2\"])}"
   ]
  },
  {
   "cell_type": "markdown",
   "metadata": {},
   "source": [
    "Writing that to file."
   ]
  },
  {
   "cell_type": "code",
   "execution_count": 84,
   "metadata": {
    "collapsed": false
   },
   "outputs": [],
   "source": [
    "with open(\"fitness.csv\", \"a\") as outfile:\n",
    "    for key, value in fitness.items():\n",
    "        outfile.write(\"{}, {}, {}, {}\\n\".format(*key, *value))"
   ]
  },
  {
   "cell_type": "code",
   "execution_count": null,
   "metadata": {
    "collapsed": true
   },
   "outputs": [],
   "source": []
  }
 ],
 "metadata": {
  "kernelspec": {
   "display_name": "Python [default]",
   "language": "python",
   "name": "python3"
  },
  "language_info": {
   "codemirror_mode": {
    "name": "ipython",
    "version": 3
   },
   "file_extension": ".py",
   "mimetype": "text/x-python",
   "name": "python",
   "nbconvert_exporter": "python",
   "pygments_lexer": "ipython3",
   "version": "3.5.2"
  }
 },
 "nbformat": 4,
 "nbformat_minor": 1
}
