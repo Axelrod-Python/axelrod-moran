{
 "cells": [
  {
   "cell_type": "code",
   "execution_count": 1,
   "metadata": {
    "collapsed": true
   },
   "outputs": [],
   "source": [
    "import pandas as pd\n",
    "import numpy as np\n",
    "import axelrod as axl\n",
    "import pathlib "
   ]
  },
  {
   "cell_type": "code",
   "execution_count": 4,
   "metadata": {
    "collapsed": false,
    "scrolled": true
   },
   "outputs": [],
   "source": [
    "df = pd.read_csv(\"outcomes.csv\", header=None)\n",
    "df.columns = [\"strategy 1\", \"strategy 2\", \"score 1\", \"score 2\", \"count\"]"
   ]
  },
  {
   "cell_type": "code",
   "execution_count": 5,
   "metadata": {
    "collapsed": false
   },
   "outputs": [
    {
     "data": {
      "text/html": [
       "<div>\n",
       "<table border=\"1\" class=\"dataframe\">\n",
       "  <thead>\n",
       "    <tr style=\"text-align: right;\">\n",
       "      <th></th>\n",
       "      <th>score 1</th>\n",
       "      <th>score 2</th>\n",
       "      <th>count</th>\n",
       "    </tr>\n",
       "  </thead>\n",
       "  <tbody>\n",
       "    <tr>\n",
       "      <th>count</th>\n",
       "      <td>2.305486e+06</td>\n",
       "      <td>2.305486e+06</td>\n",
       "      <td>2.305486e+06</td>\n",
       "    </tr>\n",
       "    <tr>\n",
       "      <th>mean</th>\n",
       "      <td>2.179908e+00</td>\n",
       "      <td>2.278338e+00</td>\n",
       "      <td>1.910012e+01</td>\n",
       "    </tr>\n",
       "    <tr>\n",
       "      <th>std</th>\n",
       "      <td>7.342048e-01</td>\n",
       "      <td>8.566840e-01</td>\n",
       "      <td>2.463772e+02</td>\n",
       "    </tr>\n",
       "    <tr>\n",
       "      <th>min</th>\n",
       "      <td>0.000000e+00</td>\n",
       "      <td>0.000000e+00</td>\n",
       "      <td>1.000000e+00</td>\n",
       "    </tr>\n",
       "    <tr>\n",
       "      <th>25%</th>\n",
       "      <td>1.705000e+00</td>\n",
       "      <td>1.635000e+00</td>\n",
       "      <td>1.000000e+00</td>\n",
       "    </tr>\n",
       "    <tr>\n",
       "      <th>50%</th>\n",
       "      <td>2.155000e+00</td>\n",
       "      <td>2.305000e+00</td>\n",
       "      <td>2.000000e+00</td>\n",
       "    </tr>\n",
       "    <tr>\n",
       "      <th>75%</th>\n",
       "      <td>2.595000e+00</td>\n",
       "      <td>2.885000e+00</td>\n",
       "      <td>7.000000e+00</td>\n",
       "    </tr>\n",
       "    <tr>\n",
       "      <th>max</th>\n",
       "      <td>5.000000e+00</td>\n",
       "      <td>5.000000e+00</td>\n",
       "      <td>1.000000e+04</td>\n",
       "    </tr>\n",
       "  </tbody>\n",
       "</table>\n",
       "</div>"
      ],
      "text/plain": [
       "            score 1       score 2         count\n",
       "count  2.305486e+06  2.305486e+06  2.305486e+06\n",
       "mean   2.179908e+00  2.278338e+00  1.910012e+01\n",
       "std    7.342048e-01  8.566840e-01  2.463772e+02\n",
       "min    0.000000e+00  0.000000e+00  1.000000e+00\n",
       "25%    1.705000e+00  1.635000e+00  1.000000e+00\n",
       "50%    2.155000e+00  2.305000e+00  2.000000e+00\n",
       "75%    2.595000e+00  2.885000e+00  7.000000e+00\n",
       "max    5.000000e+00  5.000000e+00  1.000000e+04"
      ]
     },
     "execution_count": 5,
     "metadata": {},
     "output_type": "execute_result"
    }
   ],
   "source": [
    "df.describe()"
   ]
  },
  {
   "cell_type": "markdown",
   "metadata": {},
   "source": [
    "Creating a dictionary `f` that maps a name of strategy tuples to the mean utility for that matchup:\n"
   ]
  },
  {
   "cell_type": "code",
   "execution_count": 6,
   "metadata": {
    "collapsed": false
   },
   "outputs": [],
   "source": [
    "utilities = {pair: (f[\"score 1\"].mean(), f[\"score 2\"].mean()) \n",
    "             for pair, f in df.groupby([\"strategy 1\", \"strategy 2\"])}"
   ]
  },
  {
   "cell_type": "code",
   "execution_count": 7,
   "metadata": {
    "collapsed": true
   },
   "outputs": [],
   "source": [
    "def scores(strategy_pair, utilities=utilities):\n",
    "    \"\"\"\n",
    "    Return the fitness scores:\n",
    "    \n",
    "        [a, b]\n",
    "        [c, d]\n",
    "    \n",
    "    for a pair of strategies, in a population of N individuals \n",
    "    with i individuals of the first type.\n",
    "    \"\"\"\n",
    "    try:\n",
    "        s1, s2 = strategy_pair\n",
    "        scores = np.array([[utilities[(s1, s1)][0], utilities[(s1, s2)][0]], \n",
    "                           [utilities[(s1, s2)][1], utilities[(s2, s2)][0]]])\n",
    "    except KeyError:\n",
    "        s2, s1 = strategy_pair\n",
    "        scores = np.array([[utilities[(s2, s2)][0], utilities[(s1, s2)][1]], \n",
    "                           [utilities[(s1, s2)][0], utilities[(s1, s1)][0]]])\n",
    "    return scores"
   ]
  },
  {
   "cell_type": "code",
   "execution_count": 8,
   "metadata": {
    "collapsed": false
   },
   "outputs": [
    {
     "data": {
      "text/plain": [
       "array([[ 2.   ,  2.515],\n",
       "       [ 2.49 ,  3.   ]])"
      ]
     },
     "execution_count": 8,
     "metadata": {},
     "output_type": "execute_result"
    }
   ],
   "source": [
    "scores((\"Alternator\", \"Tit For Tat\"))"
   ]
  },
  {
   "cell_type": "code",
   "execution_count": 9,
   "metadata": {
    "collapsed": true
   },
   "outputs": [],
   "source": [
    "def fitness(strategy_pair, N, i, utilities=utilities):\n",
    "    \"\"\"\n",
    "    Return the fitness of a strategy pair in a population with \n",
    "    N total individuals and i individuals of the first type.\n",
    "    \"\"\"\n",
    "    m = scores(strategy_pair, utilities)    \n",
    "    return np.dot(m, np.array([i, N - i]))"
   ]
  },
  {
   "cell_type": "code",
   "execution_count": 10,
   "metadata": {
    "collapsed": false
   },
   "outputs": [
    {
     "data": {
      "text/plain": [
       "array([ 12.06,  14.49])"
      ]
     },
     "execution_count": 10,
     "metadata": {},
     "output_type": "execute_result"
    }
   ],
   "source": [
    "# Compute fitness for case of Alternator invading population of Cooperators\n",
    "fitness((\"Alternator\", \"Tit For Tat\"), 5, 1)"
   ]
  },
  {
   "cell_type": "code",
   "execution_count": 83,
   "metadata": {
    "collapsed": true
   },
   "outputs": [],
   "source": [
    "def transition(strategy_pair, N, i, utilities=utilities):\n",
    "    \"\"\"\n",
    "    Return the 3 transition probabilities:\n",
    "    \n",
    "    P[i, i - 1]\n",
    "    P[i, i]\n",
    "    P[i, i + 1]\n",
    "    \n",
    "    Assuming: \n",
    "     - a given stratgy pair, \n",
    "     - a given total population size N\n",
    "     - and a state i (the number of individuals of the first type)\n",
    "    \"\"\"\n",
    "    fit = fitness(strategy_pair, N, i, utilities=utilities)\n",
    "    p_up = (fit[0] * i / (fit[0] * i + fit[1] * (N - i))) * (N - i) / N\n",
    "    p_down = (fit[1] * (N - i) / (fit[0] * i + fit[1] * (N - i))) * (N - i) / N\n",
    "    p_stay = 1 - p_up - p_down\n",
    "    return p_down, p_stay, p_up"
   ]
  },
  {
   "cell_type": "code",
   "execution_count": 84,
   "metadata": {
    "collapsed": false
   },
   "outputs": [
    {
     "data": {
      "text/plain": [
       "(0.66221079691516715, 0.19999999999999996, 0.13778920308483292)"
      ]
     },
     "execution_count": 84,
     "metadata": {},
     "output_type": "execute_result"
    }
   ],
   "source": [
    "# Compute transitions probabilitis for the case of Alternator invading population of Cooperators\n",
    "transition((\"Alternator\", \"Tit For Tat\"), 5, 1)"
   ]
  },
  {
   "cell_type": "code",
   "execution_count": 85,
   "metadata": {
    "collapsed": true
   },
   "outputs": [],
   "source": [
    "# Using Marc's code with a modification \n",
    "# (just so that it fits with what I've \n",
    "# done so far but not precious about this)\n",
    "\n",
    "def fixation(strategy_pair, N, i=1, utilities=utilities):\n",
    "    \"\"\"Return the fixation probability for each pair\"\"\"\n",
    "    ratios = []\n",
    "    for j in range(1, N): # ignore first and last transitions, which are likely zero\n",
    "        p_down, _, p_up = transition(strategy_pair, N, j, utilities=utilities)\n",
    "        ratios.append(p_down / p_up)\n",
    "    t = np.cumprod(ratios)\n",
    "    s = np.cumsum(t)\n",
    "    if i > 1:\n",
    "        return (1 + s[i - 2]) / (1 + s[-1])\n",
    "    return 1 / (1 + s[-1])"
   ]
  },
  {
   "cell_type": "code",
   "execution_count": 86,
   "metadata": {
    "collapsed": false
   },
   "outputs": [
    {
     "data": {
      "text/plain": [
       "(0.041959889586422321, 0.041959889586422272)"
      ]
     },
     "execution_count": 86,
     "metadata": {},
     "output_type": "execute_result"
    }
   ],
   "source": [
    "# Confirm that the calculation works with i != 1.\n",
    "fixation((\"Alternator\", \"Tit For Tat\"), 5), 1 - fixation((\"Tit For Tat\", \"Alternator\"), 5, i=4)"
   ]
  },
  {
   "cell_type": "code",
   "execution_count": 15,
   "metadata": {
    "collapsed": false
   },
   "outputs": [],
   "source": [
    "def write_fixation(N):\n",
    "    \"\"\"\n",
    "    Write fixation probabilities for all \n",
    "    strategy pairs to a file called 'results/fixation_N.csv'\n",
    "    \n",
    "    File looks like:\n",
    "    \n",
    "    s1, s2, x_i, x_{N - 1}\n",
    "    \"\"\"\n",
    "    path = pathlib.Path(\"results\")\n",
    "    path.mkdir(exist_ok=True)\n",
    "    path = pathlib.Path(\"results\") / \"fixation_{}.csv\".format(N)\n",
    "\n",
    "    with path.open(\"w\") as textfile:\n",
    "        for strategy_pair in utilities:\n",
    "            if strategy_pair[0] != strategy_pair[1]:\n",
    "                fixation_probabilities = fixation(strategy_pair, N), fixation(strategy_pair, N, N - 1)\n",
    "                textfile.write(\"{}, {}, {}, {}\\n\".format(*strategy_pair, *fixation_probabilities))"
   ]
  },
  {
   "cell_type": "code",
   "execution_count": 16,
   "metadata": {
    "collapsed": false
   },
   "outputs": [],
   "source": [
    "# Write all of these to file\n",
    "for N in range(2, 12 + 1):\n",
    "    write_fixation(N)"
   ]
  },
  {
   "cell_type": "code",
   "execution_count": 72,
   "metadata": {
    "collapsed": false
   },
   "outputs": [
    {
     "data": {
      "text/plain": [
       "array([[ 3.,  3.],\n",
       "       [ 3.,  3.]])"
      ]
     },
     "execution_count": 72,
     "metadata": {},
     "output_type": "execute_result"
    }
   ],
   "source": [
    "scores((\"Cooperator\", \"Cooperator\"))"
   ]
  },
  {
   "cell_type": "code",
   "execution_count": 73,
   "metadata": {
    "collapsed": false
   },
   "outputs": [],
   "source": [
    "def prob(r, N):\n",
    "    return (1 - 1 / r) / (1 - 1 / (r ** N))"
   ]
  },
  {
   "cell_type": "code",
   "execution_count": null,
   "metadata": {
    "collapsed": true
   },
   "outputs": [],
   "source": []
  },
  {
   "cell_type": "code",
   "execution_count": 80,
   "metadata": {
    "collapsed": false
   },
   "outputs": [
    {
     "data": {
      "text/plain": [
       "(0.062500000000000014, 0.6694214876033059)"
      ]
     },
     "execution_count": 80,
     "metadata": {},
     "output_type": "execute_result"
    }
   ],
   "source": [
    "N = 5\n",
    "fixation((\"Cooperator\", \"Tit For Tat\"), N), prob(3.0, N)"
   ]
  },
  {
   "cell_type": "code",
   "execution_count": 33,
   "metadata": {
    "collapsed": false
   },
   "outputs": [
    {
     "data": {
      "text/plain": [
       "4.0"
      ]
     },
     "execution_count": 33,
     "metadata": {},
     "output_type": "execute_result"
    }
   ],
   "source": [
    ".64/.16"
   ]
  },
  {
   "cell_type": "code",
   "execution_count": 35,
   "metadata": {
    "collapsed": false
   },
   "outputs": [
    {
     "data": {
      "text/plain": [
       "0.041959889586422321"
      ]
     },
     "execution_count": 35,
     "metadata": {},
     "output_type": "execute_result"
    }
   ],
   "source": [
    "fixation((\"Alternator\", \"Tit For Tat\"), 5)"
   ]
  },
  {
   "cell_type": "code",
   "execution_count": null,
   "metadata": {
    "collapsed": true
   },
   "outputs": [],
   "source": []
  }
 ],
 "metadata": {
  "anaconda-cloud": {},
  "kernelspec": {
   "display_name": "Python [default]",
   "language": "python",
   "name": "python3"
  },
  "language_info": {
   "codemirror_mode": {
    "name": "ipython",
    "version": 3
   },
   "file_extension": ".py",
   "mimetype": "text/x-python",
   "name": "python",
   "nbconvert_exporter": "python",
   "pygments_lexer": "ipython3",
   "version": "3.5.2"
  }
 },
 "nbformat": 4,
 "nbformat_minor": 1
}
