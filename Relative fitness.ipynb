{
 "cells": [
  {
   "cell_type": "code",
   "execution_count": 231,
   "metadata": {
    "collapsed": true
   },
   "outputs": [],
   "source": [
    "import pandas as pd\n",
    "import numpy as np\n",
    "import axelrod as axl\n",
    "import pathlib "
   ]
  },
  {
   "cell_type": "code",
   "execution_count": 187,
   "metadata": {
    "collapsed": false
   },
   "outputs": [],
   "source": [
    "df = pd.read_csv(\"outcomes.csv\", header=None)\n",
    "df.columns = [\"strategy 1\", \"strategy 2\", \"score 1\", \"score 2\", \"count\"]"
   ]
  },
  {
   "cell_type": "code",
   "execution_count": 188,
   "metadata": {
    "collapsed": false
   },
   "outputs": [
    {
     "data": {
      "text/html": [
       "<div>\n",
       "<table border=\"1\" class=\"dataframe\">\n",
       "  <thead>\n",
       "    <tr style=\"text-align: right;\">\n",
       "      <th></th>\n",
       "      <th>score 1</th>\n",
       "      <th>score 2</th>\n",
       "      <th>count</th>\n",
       "    </tr>\n",
       "  </thead>\n",
       "  <tbody>\n",
       "    <tr>\n",
       "      <th>count</th>\n",
       "      <td>794731.000000</td>\n",
       "      <td>794731.000000</td>\n",
       "      <td>794731.000000</td>\n",
       "    </tr>\n",
       "    <tr>\n",
       "      <th>mean</th>\n",
       "      <td>2.210296</td>\n",
       "      <td>2.274771</td>\n",
       "      <td>5.546594</td>\n",
       "    </tr>\n",
       "    <tr>\n",
       "      <th>std</th>\n",
       "      <td>0.749463</td>\n",
       "      <td>0.879763</td>\n",
       "      <td>41.762043</td>\n",
       "    </tr>\n",
       "    <tr>\n",
       "      <th>min</th>\n",
       "      <td>0.000000</td>\n",
       "      <td>0.000000</td>\n",
       "      <td>1.000000</td>\n",
       "    </tr>\n",
       "    <tr>\n",
       "      <th>25%</th>\n",
       "      <td>1.720000</td>\n",
       "      <td>1.595000</td>\n",
       "      <td>1.000000</td>\n",
       "    </tr>\n",
       "    <tr>\n",
       "      <th>50%</th>\n",
       "      <td>2.180000</td>\n",
       "      <td>2.320000</td>\n",
       "      <td>1.000000</td>\n",
       "    </tr>\n",
       "    <tr>\n",
       "      <th>75%</th>\n",
       "      <td>2.665000</td>\n",
       "      <td>2.920000</td>\n",
       "      <td>3.000000</td>\n",
       "    </tr>\n",
       "    <tr>\n",
       "      <th>max</th>\n",
       "      <td>5.000000</td>\n",
       "      <td>5.000000</td>\n",
       "      <td>1000.000000</td>\n",
       "    </tr>\n",
       "  </tbody>\n",
       "</table>\n",
       "</div>"
      ],
      "text/plain": [
       "             score 1        score 2          count\n",
       "count  794731.000000  794731.000000  794731.000000\n",
       "mean        2.210296       2.274771       5.546594\n",
       "std         0.749463       0.879763      41.762043\n",
       "min         0.000000       0.000000       1.000000\n",
       "25%         1.720000       1.595000       1.000000\n",
       "50%         2.180000       2.320000       1.000000\n",
       "75%         2.665000       2.920000       3.000000\n",
       "max         5.000000       5.000000    1000.000000"
      ]
     },
     "execution_count": 188,
     "metadata": {},
     "output_type": "execute_result"
    }
   ],
   "source": [
    "df.describe()"
   ]
  },
  {
   "cell_type": "markdown",
   "metadata": {},
   "source": [
    "Creating a dictionary `f` that maps a name of strategy tuples to the mean utility for that matchup:\n"
   ]
  },
  {
   "cell_type": "code",
   "execution_count": 189,
   "metadata": {
    "collapsed": false
   },
   "outputs": [],
   "source": [
    "utilities = {pair: (f[\"score 1\"].mean(), f[\"score 2\"].mean()) \n",
    "             for pair, f in df.groupby([\"strategy 1\", \"strategy 2\"])}"
   ]
  },
  {
   "cell_type": "code",
   "execution_count": 209,
   "metadata": {
    "collapsed": true
   },
   "outputs": [],
   "source": [
    "def scores(strategy_pair, utilities=utilities):\n",
    "    \"\"\"\n",
    "    Return the fitness scores:\n",
    "    \n",
    "        [a, b]\n",
    "        [c, d]\n",
    "    \n",
    "    for a pair of strategies, in a population of N individuals \n",
    "    with i individuals of the first type.\n",
    "    \"\"\"\n",
    "    try:\n",
    "        s1, s2 = strategy_pair\n",
    "        scores = np.array([[utilities[(s1, s1)][0], utilities[(s1, s2)][0]], \n",
    "                           [utilities[(s1, s2)][1], utilities[(s2, s2)][0]]])\n",
    "    except KeyError:\n",
    "        s2, s1 = strategy_pair\n",
    "        scores = np.array([[utilities[(s2, s2)][0], utilities[(s1, s2)][1]], \n",
    "                           [utilities[(s1, s2)][0], utilities[(s1, s1)][0]]])\n",
    "    return scores"
   ]
  },
  {
   "cell_type": "code",
   "execution_count": 212,
   "metadata": {
    "collapsed": false
   },
   "outputs": [
    {
     "data": {
      "text/plain": [
       "array([[ 2.   ,  2.515],\n",
       "       [ 2.49 ,  3.   ]])"
      ]
     },
     "execution_count": 212,
     "metadata": {},
     "output_type": "execute_result"
    }
   ],
   "source": [
    "scores((\"Alternator\", \"Tit For Tat\"))"
   ]
  },
  {
   "cell_type": "code",
   "execution_count": 213,
   "metadata": {
    "collapsed": true
   },
   "outputs": [],
   "source": [
    "def fitness(strategy_pair, N, i, utilities=utilities):\n",
    "    \"\"\"\n",
    "    Return the fitness of a strategy pair in a population with \n",
    "    N total individuals and i individuals of the first type.\n",
    "    \"\"\"\n",
    "    m = scores(strategy_pair, utilities)    \n",
    "    return np.dot(m, np.array([i, N - i]))"
   ]
  },
  {
   "cell_type": "code",
   "execution_count": 214,
   "metadata": {
    "collapsed": false
   },
   "outputs": [
    {
     "data": {
      "text/plain": [
       "array([ 12.06,  14.49])"
      ]
     },
     "execution_count": 214,
     "metadata": {},
     "output_type": "execute_result"
    }
   ],
   "source": [
    "# Compute fitness for case of Alternator invading population of Cooperators\n",
    "fitness((\"Alternator\", \"Tit For Tat\"), 5, 1)"
   ]
  },
  {
   "cell_type": "code",
   "execution_count": 215,
   "metadata": {
    "collapsed": true
   },
   "outputs": [],
   "source": [
    "def transition(strategy_pair, N, i, utilities=utilities):\n",
    "    \"\"\"\n",
    "    Return the 3 transition probabilities:\n",
    "    \n",
    "    P[i, i - 1]\n",
    "    P[i, i]\n",
    "    P[i, i + 1]\n",
    "    \n",
    "    Assuming: \n",
    "     - a given stratgy pair, \n",
    "     - a given total population size N\n",
    "     - and a state i (the number of individuals of the first type)\n",
    "    \"\"\"\n",
    "    fit = fitness(strategy_pair, N, i, utilities=utilities)\n",
    "    p_up = fit[0] * i / (fit[0] * i + fit[1] * (N - i)) * (N - i) / N\n",
    "    p_down = fit[1] * (N - i) / (fit[0] * i + fit[1] * (N - i)) * (N - i) / N\n",
    "    p_stay = 1 - p_up - p_down\n",
    "    return p_down, p_stay, p_up"
   ]
  },
  {
   "cell_type": "code",
   "execution_count": 218,
   "metadata": {
    "collapsed": false
   },
   "outputs": [
    {
     "data": {
      "text/plain": [
       "(0.66221079691516715, 0.19999999999999996, 0.13778920308483292)"
      ]
     },
     "execution_count": 218,
     "metadata": {},
     "output_type": "execute_result"
    }
   ],
   "source": [
    "# Compute transitions probabilitis for the case of Alternator invading population of Cooperators\n",
    "transition((\"Alternator\", \"Tit For Tat\"), 5, 1)"
   ]
  },
  {
   "cell_type": "code",
   "execution_count": 219,
   "metadata": {
    "collapsed": true
   },
   "outputs": [],
   "source": [
    "# Using Marc's code with a modification \n",
    "# (just so that it fits with what I've \n",
    "# done so far but not precious about this)\n",
    "\n",
    "def fixation(strategy_pair, N, i=1, utilities=utilities):\n",
    "    \"\"\"Return the fixation probability for each pair\"\"\"\n",
    "    ratios = []\n",
    "    for j in range(1, N): # ignore first and last transitions, which are likely zero\n",
    "        p_down, _, p_up = transition(strategy_pair, N, j, utilities=utilities)\n",
    "        ratios.append(p_down / p_up)\n",
    "    t = np.cumprod(ratios)\n",
    "    s = np.cumsum(t)\n",
    "    if i > 1:\n",
    "        return (1 + s[i - 2]) / (1 + s[-1])\n",
    "    return 1 / (1 + s[-1])"
   ]
  },
  {
   "cell_type": "code",
   "execution_count": 225,
   "metadata": {
    "collapsed": false
   },
   "outputs": [
    {
     "data": {
      "text/plain": [
       "(0.041959889586422321, 0.041959889586422272)"
      ]
     },
     "execution_count": 225,
     "metadata": {},
     "output_type": "execute_result"
    }
   ],
   "source": [
    "# Confirm that the calculation works with i != 1.\n",
    "fixation((\"Alternator\", \"Tit For Tat\"), 5), 1 - fixation((\"Tit For Tat\", \"Alternator\"), 5, i=4)"
   ]
  },
  {
   "cell_type": "code",
   "execution_count": 249,
   "metadata": {
    "collapsed": false
   },
   "outputs": [],
   "source": [
    "def write_fixation(N):\n",
    "    \"\"\"\n",
    "    Write fixation probabilities for all \n",
    "    strategy pairs to a file called 'results/fixation_N.csv'\n",
    "    \n",
    "    File looks like:\n",
    "    \n",
    "    s1, s2, x_i, x_{N - 1}\n",
    "    \"\"\"\n",
    "    path = pathlib.Path(\"results\")\n",
    "    path.mkdir(exist_ok=True)\n",
    "    path = pathlib.Path(\"results\") / \"fixation_{}.csv\".format(N)\n",
    "\n",
    "    with path.open(\"w\") as textfile:\n",
    "        for strategy_pair in utilities:\n",
    "            if strategy_pair[0] != strategy_pair[1]:\n",
    "                fixation_probabilities = fixation(strategy_pair, N), fixation(strategy_pair, N, N - 1)\n",
    "                textfile.write(\"{}, {}, {}, {}\\n\".format(*strategy_pair, *fixation_probabilities))"
   ]
  },
  {
   "cell_type": "code",
   "execution_count": 250,
   "metadata": {
    "collapsed": false
   },
   "outputs": [],
   "source": [
    "# Write all of these to file\n",
    "for N in range(2, 12 + 1):\n",
    "    write_fixation(N)"
   ]
  },
  {
   "cell_type": "code",
   "execution_count": null,
   "metadata": {
    "collapsed": true
   },
   "outputs": [],
   "source": []
  }
 ],
 "metadata": {
  "anaconda-cloud": {},
  "kernelspec": {
   "display_name": "Python [default]",
   "language": "python",
   "name": "python3"
  },
  "language_info": {
   "codemirror_mode": {
    "name": "ipython",
    "version": 3
   },
   "file_extension": ".py",
   "mimetype": "text/x-python",
   "name": "python",
   "nbconvert_exporter": "python",
   "pygments_lexer": "ipython3",
   "version": "3.5.2"
  }
 },
 "nbformat": 4,
 "nbformat_minor": 1
}
