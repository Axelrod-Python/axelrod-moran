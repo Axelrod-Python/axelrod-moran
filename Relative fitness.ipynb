{
 "cells": [
  {
   "cell_type": "code",
   "execution_count": 1,
   "metadata": {
    "collapsed": true
   },
   "outputs": [],
   "source": [
    "import pandas as pd\n",
    "import numpy as np\n",
    "import axelrod as axl\n",
    "import pathlib "
   ]
  },
  {
   "cell_type": "markdown",
   "metadata": {},
   "source": [
    "# Data\n",
    "\n",
    "The file `outcomes.csv` contains a full set of outcomes of match results between all strategies in the library."
   ]
  },
  {
   "cell_type": "code",
   "execution_count": 232,
   "metadata": {
    "collapsed": false,
    "scrolled": true
   },
   "outputs": [],
   "source": [
    "df = pd.read_csv(\"outcomes.csv\", header=None)\n",
    "df.columns = [\"strategy 1\", \"strategy 2\", \"score 1\", \"score 2\", \"count\"]"
   ]
  },
  {
   "cell_type": "code",
   "execution_count": 233,
   "metadata": {
    "collapsed": false
   },
   "outputs": [
    {
     "data": {
      "text/html": [
       "<div>\n",
       "<table border=\"1\" class=\"dataframe\">\n",
       "  <thead>\n",
       "    <tr style=\"text-align: right;\">\n",
       "      <th></th>\n",
       "      <th>score 1</th>\n",
       "      <th>score 2</th>\n",
       "      <th>count</th>\n",
       "    </tr>\n",
       "  </thead>\n",
       "  <tbody>\n",
       "    <tr>\n",
       "      <th>count</th>\n",
       "      <td>2.305486e+06</td>\n",
       "      <td>2.305486e+06</td>\n",
       "      <td>2.305486e+06</td>\n",
       "    </tr>\n",
       "    <tr>\n",
       "      <th>mean</th>\n",
       "      <td>2.179908e+00</td>\n",
       "      <td>2.278338e+00</td>\n",
       "      <td>1.910012e+01</td>\n",
       "    </tr>\n",
       "    <tr>\n",
       "      <th>std</th>\n",
       "      <td>7.342048e-01</td>\n",
       "      <td>8.566840e-01</td>\n",
       "      <td>2.463772e+02</td>\n",
       "    </tr>\n",
       "    <tr>\n",
       "      <th>min</th>\n",
       "      <td>0.000000e+00</td>\n",
       "      <td>0.000000e+00</td>\n",
       "      <td>1.000000e+00</td>\n",
       "    </tr>\n",
       "    <tr>\n",
       "      <th>25%</th>\n",
       "      <td>1.705000e+00</td>\n",
       "      <td>1.635000e+00</td>\n",
       "      <td>1.000000e+00</td>\n",
       "    </tr>\n",
       "    <tr>\n",
       "      <th>50%</th>\n",
       "      <td>2.155000e+00</td>\n",
       "      <td>2.305000e+00</td>\n",
       "      <td>2.000000e+00</td>\n",
       "    </tr>\n",
       "    <tr>\n",
       "      <th>75%</th>\n",
       "      <td>2.595000e+00</td>\n",
       "      <td>2.885000e+00</td>\n",
       "      <td>7.000000e+00</td>\n",
       "    </tr>\n",
       "    <tr>\n",
       "      <th>max</th>\n",
       "      <td>5.000000e+00</td>\n",
       "      <td>5.000000e+00</td>\n",
       "      <td>1.000000e+04</td>\n",
       "    </tr>\n",
       "  </tbody>\n",
       "</table>\n",
       "</div>"
      ],
      "text/plain": [
       "            score 1       score 2         count\n",
       "count  2.305486e+06  2.305486e+06  2.305486e+06\n",
       "mean   2.179908e+00  2.278338e+00  1.910012e+01\n",
       "std    7.342048e-01  8.566840e-01  2.463772e+02\n",
       "min    0.000000e+00  0.000000e+00  1.000000e+00\n",
       "25%    1.705000e+00  1.635000e+00  1.000000e+00\n",
       "50%    2.155000e+00  2.305000e+00  2.000000e+00\n",
       "75%    2.595000e+00  2.885000e+00  7.000000e+00\n",
       "max    5.000000e+00  5.000000e+00  1.000000e+04"
      ]
     },
     "execution_count": 233,
     "metadata": {},
     "output_type": "execute_result"
    }
   ],
   "source": [
    "df.describe()"
   ]
  },
  {
   "cell_type": "markdown",
   "metadata": {},
   "source": [
    "Creating a dictionary `utilities` that maps a tuple of strategy names to the mean utility for that matchup:"
   ]
  },
  {
   "cell_type": "code",
   "execution_count": 84,
   "metadata": {
    "collapsed": false
   },
   "outputs": [],
   "source": [
    "utilities = {pair: (f[\"score 1\"].mean(), f[\"score 2\"].mean()) \n",
    "             for pair, f in df.groupby([\"strategy 1\", \"strategy 2\"])}"
   ]
  },
  {
   "cell_type": "markdown",
   "metadata": {},
   "source": [
    "For example we see that a `Cooperator` recieves a payoff of 0 against a `Defector` (which recieves a payoff of 5):"
   ]
  },
  {
   "cell_type": "code",
   "execution_count": 234,
   "metadata": {
    "collapsed": false
   },
   "outputs": [
    {
     "data": {
      "text/plain": [
       "(0.0, 5.0)"
      ]
     },
     "execution_count": 234,
     "metadata": {},
     "output_type": "execute_result"
    }
   ],
   "source": [
    "utilities['Cooperator', 'Defector']"
   ]
  },
  {
   "cell_type": "markdown",
   "metadata": {},
   "source": [
    "For random strategies we have the expected payoffs, for example here we see `Cooperator` vs `Random: 0.5`. We see that `Random:0.5` gets a mean utility of 4, which is (as expected the mean between 5 and 3."
   ]
  },
  {
   "cell_type": "code",
   "execution_count": 242,
   "metadata": {
    "collapsed": false
   },
   "outputs": [
    {
     "data": {
      "text/plain": [
       "(1.5077884615384616, 3.9948076923076927)"
      ]
     },
     "execution_count": 242,
     "metadata": {},
     "output_type": "execute_result"
    }
   ],
   "source": [
    "utilities['Cooperator', 'Random: 0.5']"
   ]
  },
  {
   "cell_type": "markdown",
   "metadata": {},
   "source": [
    "Here is a function to get these scores out in matrix form $M$:\n",
    "\n",
    "$$\n",
    "M = \\begin{pmatrix}\n",
    "a & b \\\\\n",
    "c & d\n",
    "\\end{pmatrix}\n",
    "$$\n",
    "\n",
    "Where:\n",
    "\n",
    "- $a$: the utility of the first strategy encountering the first strategy;\n",
    "- $b$: the utility of the first strategy encountering the second strategy;\n",
    "- $c$: the utility of the second strategy encountering the first strategy;\n",
    "- $d$: the utility of the second strategy encountering the second strategy;"
   ]
  },
  {
   "cell_type": "code",
   "execution_count": 243,
   "metadata": {
    "collapsed": true
   },
   "outputs": [],
   "source": [
    "def scores(strategy_pair, utilities=utilities):\n",
    "    \"\"\"\n",
    "    Return the fitness scores:\n",
    "    \n",
    "        [a, b]\n",
    "        [c, d]\n",
    "    \n",
    "    for a pair of strategies, in a population of N individuals \n",
    "    with i individuals of the first type.\n",
    "    \"\"\"\n",
    "    try:\n",
    "        s1, s2 = strategy_pair\n",
    "        m = np.array([[utilities[(s1, s1)][0], utilities[(s1, s2)][0]], \n",
    "                           [utilities[(s1, s2)][1], utilities[(s2, s2)][0]]])\n",
    "    except KeyError:\n",
    "        s2, s1 = strategy_pair\n",
    "        m = np.array([[utilities[(s2, s2)][0], utilities[(s1, s2)][1]], \n",
    "                           [utilities[(s1, s2)][0], utilities[(s1, s1)][0]]])\n",
    "    return m"
   ]
  },
  {
   "cell_type": "code",
   "execution_count": 244,
   "metadata": {
    "collapsed": false
   },
   "outputs": [
    {
     "data": {
      "text/plain": [
       "array([[ 1.,  5.],\n",
       "       [ 0.,  3.]])"
      ]
     },
     "execution_count": 244,
     "metadata": {},
     "output_type": "execute_result"
    }
   ],
   "source": [
    "scores((\"Defector\", \"Cooperator\"))"
   ]
  },
  {
   "cell_type": "markdown",
   "metadata": {},
   "source": [
    "Note that $M$ is order dependent:"
   ]
  },
  {
   "cell_type": "code",
   "execution_count": 245,
   "metadata": {
    "collapsed": false
   },
   "outputs": [
    {
     "data": {
      "text/plain": [
       "array([[ 3.,  0.],\n",
       "       [ 5.,  1.]])"
      ]
     },
     "execution_count": 245,
     "metadata": {},
     "output_type": "execute_result"
    }
   ],
   "source": [
    "scores((\"Cooperator\", \"Defector\"))"
   ]
  },
  {
   "cell_type": "markdown",
   "metadata": {},
   "source": [
    "Using the we can compute the fitness for both strategies in a population of $N$ individuals within which there are $i$ individuals of the first type.\n",
    "\n",
    "From [Nowak's: 'Evolutionary Dynamics'](https://www.amazon.co.uk/Evolutionary-Dynamics-Exploring-Equations-Life-x/dp/0674023382/ref=sr_1_1?ie=UTF8&qid=1479311303&sr=8-1&keywords=evolutionary+dynamics) these fitness values are given as $f_i$ (for the first strategy) and $g_i$ (for the second):\n",
    "\n",
    "$$\n",
    "f_i = \\frac{a(i-1) + b(N-i)}{N-1}\n",
    "$$\n",
    "\n",
    "and \n",
    "\n",
    "$$\n",
    "g_i = \\frac{ci + d(N-i-1)}{N-1}\n",
    "$$\n",
    "\n",
    "This can be seen for $f_i$ as:\n",
    "\n",
    "- The probability that a strategy of the first type encounters a strategy of the first type is $\\frac{i - 1}{N - 1}$\n",
    "- The probability that a strategy of the first type encounters a strategy of the second type is $\\frac{N - i}{N - 1}$"
   ]
  },
  {
   "cell_type": "code",
   "execution_count": 253,
   "metadata": {
    "collapsed": true
   },
   "outputs": [],
   "source": [
    "def fitness(strategy_pair, N, i, utilities=utilities):\n",
    "    \"\"\"\n",
    "    Return the fitness of a strategy pair in a population with \n",
    "    N total individuals and i individuals of the first type.\n",
    "    \"\"\"\n",
    "    m = scores(strategy_pair, utilities)    \n",
    "    \n",
    "    f = (m[0, 0] * (i - 1) + m[0, 1] * (N - i)) / (N - 1)\n",
    "    g = (m[1, 0] * i + m[1, 1] * (N - i - 1)) / (N - 1)\n",
    "    \n",
    "    return f, g"
   ]
  },
  {
   "cell_type": "markdown",
   "metadata": {},
   "source": [
    "Using this we can verify that a single `Defector` with 4 `Cooperator`s would have a fitness of 5. (They would only ever meet a `Cooperator` and would thus obtain a utility of 5. Similary, $3/4$s of the time, a `Cooperator` would obtain a utility of 3, and $1/4$s of the time a utility of 0."
   ]
  },
  {
   "cell_type": "code",
   "execution_count": 254,
   "metadata": {
    "collapsed": false
   },
   "outputs": [
    {
     "data": {
      "text/plain": [
       "((5.0, 2.25), (2.25, 5.0))"
      ]
     },
     "execution_count": 254,
     "metadata": {},
     "output_type": "execute_result"
    }
   ],
   "source": [
    "# Calculating these in the two equivalent ways:\n",
    "fitness((\"Defector\", \"Cooperator\"), 5, 1), fitness((\"Cooperator\", \"Defector\"), 5, 4)"
   ]
  },
  {
   "cell_type": "markdown",
   "metadata": {},
   "source": [
    "Similary, a single `Cooperator` in a population of `Defector`s would only ever meet a `Defector` thus obtaining a utility of 0. The `Defector`s would obtain a utility of 1, $3/4$s of the time, and a utility of 5 $1/4$ of the time."
   ]
  },
  {
   "cell_type": "code",
   "execution_count": 255,
   "metadata": {
    "collapsed": false
   },
   "outputs": [
    {
     "data": {
      "text/plain": [
       "((2.0, 0.0), (0.0, 2.0))"
      ]
     },
     "execution_count": 255,
     "metadata": {},
     "output_type": "execute_result"
    }
   ],
   "source": [
    "# Calculating these in the two equivalent ways:\n",
    "fitness((\"Defector\", \"Cooperator\"), 5, 4), fitness((\"Cooperator\", \"Defector\"), 5, 1)"
   ]
  },
  {
   "cell_type": "markdown",
   "metadata": {},
   "source": [
    "Using this fitness function we can now obtain the transition probabilities:\n",
    "\n",
    "- $p_{i,i+1}$: the probability of having 1 more individual of the first type;\n",
    "- $p_{i,i-1}$: the probability of having 1 less individual of the first type;\n",
    "- $p_{ii}$: the probability of no change.\n",
    "\n",
    "From [Nowak's Evolutionary Dynamics](https://www.amazon.co.uk/Evolutionary-Dynamics-Exploring-Equations-Life-x/dp/0674023382/ref=sr_1_1?ie=UTF8&qid=1479311303&sr=8-1&keywords=evolutionary+dynamics) we have:\n",
    "\n",
    "$$\n",
    "p_{i, i+1}= \\frac{if_i}{if_i+(N-i)g_i}\\frac{N-i}{N}\n",
    "$$\n",
    "\n",
    "$$\n",
    "p_{i, i-1}= \\frac{(N-i)g_i}{if_i+(N-i)g_i}\\frac{i}{N}\n",
    "$$\n",
    "\n",
    "$$\n",
    "p_{ii} = 1 - p_{i, i+1} - p_{i, i-1}\n",
    "$$\n",
    "\n",
    "These probability transitions correspond the probability of a given individual being chosen for 'death' as well as  the probability of a given type of individual for 'birth' (the latter is in effect a normalisation of the fitness)."
   ]
  },
  {
   "cell_type": "code",
   "execution_count": 156,
   "metadata": {
    "collapsed": false
   },
   "outputs": [],
   "source": [
    "def transition(strategy_pair, N, i, utilities=utilities):\n",
    "    \"\"\"\n",
    "    Return the 3 transition probabilities:\n",
    "    \n",
    "    P[i, i - 1]\n",
    "    P[i, i]\n",
    "    P[i, i + 1]\n",
    "    \n",
    "    Assuming: \n",
    "     - a given stratgy pair, \n",
    "     - a given total population size N\n",
    "     - and a state i (the number of individuals of the first type)\n",
    "    \"\"\"\n",
    "    fit = fitness(strategy_pair, N, i, utilities=utilities)\n",
    "    \n",
    "    p_up = (fit[0] * i / (fit[0] * i + fit[1] * (N - i))) * ((N - i) / N)\n",
    "    \n",
    "    p_down = (fit[1] * (N - i) / (fit[0] * i + fit[1] * (N - i))) * (i / N)\n",
    "    \n",
    "    p_stay = 1 - p_up - p_down\n",
    "    return p_down, p_stay, p_up"
   ]
  },
  {
   "cell_type": "markdown",
   "metadata": {},
   "source": [
    "Here we see the transition probabilities $p_{i, i-1}, p_{ii}, p_{i, i+1}$ for the case of 2 `Defector`s with 3 `Cooperator`s:"
   ]
  },
  {
   "cell_type": "code",
   "execution_count": 266,
   "metadata": {
    "collapsed": false
   },
   "outputs": [
    {
     "data": {
      "text/plain": [
       "((0.14399999999999999, 0.47199999999999998, 0.38400000000000001),\n",
       " (0.14399999999999999, 0.47199999999999998, 0.38400000000000001))"
      ]
     },
     "execution_count": 266,
     "metadata": {},
     "output_type": "execute_result"
    }
   ],
   "source": [
    "# Calculating these in the two equivalent ways:\n",
    "transition((\"Defector\", \"Cooperator\"), 5, 2), transition((\"Cooperator\", \"Defector\"), 5, 3)[::-1]"
   ]
  },
  {
   "cell_type": "markdown",
   "metadata": {},
   "source": [
    "Here we see the transition probabilities $p_{i, i-1}, p_{ii}, p_{i, i+1}$ for the case of 4 `Defector`s with 1 `Cooperator`:"
   ]
  },
  {
   "cell_type": "code",
   "execution_count": 272,
   "metadata": {
    "collapsed": false
   },
   "outputs": [
    {
     "data": {
      "text/plain": [
       "((0.0, 0.80000000000000004, 0.20000000000000001),\n",
       " (0.0, 0.80000000000000004, 0.20000000000000001))"
      ]
     },
     "execution_count": 272,
     "metadata": {},
     "output_type": "execute_result"
    }
   ],
   "source": [
    "transition((\"Defector\", \"Cooperator\"), 5, 4), transition((\"Cooperator\", \"Defector\"), 5, 1)[::-1]"
   ]
  },
  {
   "cell_type": "markdown",
   "metadata": {},
   "source": [
    "Indeed in that particular case, because the score of the `Cooperator` against a population of `Defector` is 0 there is a zero probability of the number of `Cooperator`s increasing."
   ]
  },
  {
   "cell_type": "markdown",
   "metadata": {},
   "source": [
    "Let $x_i$ be the fixation probability of the first strategy in a population of $i$ individuals of the first type (and $N-i$ individuals of the second. We have:\n",
    "\n",
    "$$\n",
    "x_i = \\frac{1 + \\sum_{j=1}^{i-1}\\prod_{k=1}^{j}\\gamma_j}{1 + \\sum_{j=1}^{N-1}\\prod_{k=1}^{j}\\gamma_j}\n",
    "$$\n",
    "\n",
    "where:\n",
    "\n",
    "$$\n",
    "\\gamma_j = \\frac{p_{j, j-1}}{p_{j, j+1}}\n",
    "$$"
   ]
  },
  {
   "cell_type": "code",
   "execution_count": 347,
   "metadata": {
    "collapsed": true
   },
   "outputs": [],
   "source": [
    "# Using Marc's code with a modification \n",
    "# (just so that it fits with what I've \n",
    "# done so far but not precious about this)\n",
    "\n",
    "def fixation(strategy_pair, N, i=1, utilities=utilities):\n",
    "    \"\"\"Return the fixation probability for each pair\"\"\"\n",
    "    ratios = []\n",
    "    for j in range(1, N): # ignore first and last transitions, which are likely zero\n",
    "        p_down, _, p_up = transition(strategy_pair, N, i=j, utilities=utilities)\n",
    "        ratios.append(p_down / p_up)\n",
    "    t = np.cumprod(ratios)\n",
    "    s = np.cumsum(t)\n",
    "    if i > 1:\n",
    "        return (1 + s[i - 2]) / (1 + s[-1])\n",
    "    return 1 / (1 + s[-1])"
   ]
  },
  {
   "cell_type": "markdown",
   "metadata": {},
   "source": [
    "We see that a single `Defector` has a $.6$ fixation probability in a population of `Cooperators`:"
   ]
  },
  {
   "cell_type": "code",
   "execution_count": 350,
   "metadata": {
    "collapsed": false
   },
   "outputs": [
    {
     "data": {
      "text/plain": [
       "0.6020696142991534"
      ]
     },
     "execution_count": 350,
     "metadata": {},
     "output_type": "execute_result"
    }
   ],
   "source": [
    "fixation((\"Defector\", \"Cooperator\"), 5)"
   ]
  },
  {
   "cell_type": "markdown",
   "metadata": {},
   "source": [
    "There is however, 0 chance of fixation for a single `Cooperator`:"
   ]
  },
  {
   "cell_type": "code",
   "execution_count": 351,
   "metadata": {
    "collapsed": false
   },
   "outputs": [
    {
     "data": {
      "text/plain": [
       "0.0"
      ]
     },
     "execution_count": 351,
     "metadata": {},
     "output_type": "execute_result"
    }
   ],
   "source": [
    "fixation((\"Cooperator\", \"Defector\"), 5)"
   ]
  },
  {
   "cell_type": "markdown",
   "metadata": {},
   "source": [
    "**Marc** I think something is not quite right here but I don't understand if I'm missing something or if this correct. It is due to $p_{i, i+1}$ being 0 in the case of a `Cooperator` in a population of `Defector`s."
   ]
  },
  {
   "cell_type": "code",
   "execution_count": 354,
   "metadata": {
    "collapsed": false
   },
   "outputs": [
    {
     "data": {
      "text/plain": [
       "nan"
      ]
     },
     "execution_count": 354,
     "metadata": {},
     "output_type": "execute_result"
    }
   ],
   "source": [
    "fixation((\"Cooperator\", \"Defector\"), 5, 4)"
   ]
  },
  {
   "cell_type": "markdown",
   "metadata": {},
   "source": [
    "For strategy pairs where we have non zero scores for both players we have the expected behaviour:"
   ]
  },
  {
   "cell_type": "code",
   "execution_count": 356,
   "metadata": {
    "collapsed": false
   },
   "outputs": [
    {
     "data": {
      "text/plain": [
       "(0.020044052863436124, 0.020044052863436024)"
      ]
     },
     "execution_count": 356,
     "metadata": {},
     "output_type": "execute_result"
    }
   ],
   "source": [
    "fixation((\"Alternator\", \"Defector\"), 5), 1 - fixation((\"Defector\", \"Alternator\"), 5, 4)"
   ]
  },
  {
   "cell_type": "markdown",
   "metadata": {},
   "source": [
    "# Further things using the above framework:"
   ]
  },
  {
   "cell_type": "code",
   "execution_count": 230,
   "metadata": {
    "collapsed": false
   },
   "outputs": [],
   "source": [
    "def write_fixation(N):\n",
    "    \"\"\"\n",
    "    Write fixation probabilities for all \n",
    "    strategy pairs to a file called 'results/fixation_N.csv'\n",
    "    \n",
    "    File looks like:\n",
    "    \n",
    "    s1, s2, x_1, x_{N - 1}\n",
    "    \"\"\"\n",
    "    path = pathlib.Path(\"results\")\n",
    "    path.mkdir(exist_ok=True)\n",
    "    path = pathlib.Path(\"results\") / \"fixation_{}.csv\".format(N)\n",
    "\n",
    "    with path.open(\"w\") as textfile:\n",
    "        for strategy_pair in utilities:\n",
    "            if strategy_pair[0] != strategy_pair[1]:\n",
    "                fixation_probabilities = fixation(strategy_pair, N), fixation(strategy_pair[::-1], N)\n",
    "                textfile.write(\"{}, {}, {}, {}\\n\".format(*strategy_pair, *fixation_probabilities))"
   ]
  },
  {
   "cell_type": "code",
   "execution_count": 231,
   "metadata": {
    "collapsed": false
   },
   "outputs": [],
   "source": [
    "# Write all of these to file\n",
    "for N in range(2, 12 + 1):\n",
    "    write_fixation(N)"
   ]
  },
  {
   "cell_type": "code",
   "execution_count": 223,
   "metadata": {
    "collapsed": false
   },
   "outputs": [
    {
     "data": {
      "image/png": "[encoded data removed]",
      "text/plain": [
       "<matplotlib.figure.Figure at 0x11390e320>"
      ]
     },
     "metadata": {},
     "output_type": "display_data"
    }
   ],
   "source": [
    "import matplotlib.pyplot as plt\n",
    "import seaborn as sns\n",
    "%matplotlib inline\n",
    "ns = range(5, 20)\n",
    "plt.figure()\n",
    "for i in range(1, min(ns) + 1):\n",
    "    theoretic = [i / n for n in ns]\n",
    "    calculated = [fixation((\"Cooperator\", \"Tit For Tat\"), n, i) for n in ns]\n",
    "    plt.plot(ns, theoretic, label=\"${}/N$\".format(i))\n",
    "    plt.title(\"Cooperator vs population of Tit For Tat\")\n",
    "    if i == min(ns):\n",
    "        plt.scatter(ns, calculated, label=\"Calculated\")\n",
    "    else:\n",
    "        plt.scatter(ns, calculated)\n",
    "\n",
    "    plt.xlabel(\"Population size $N$\")\n",
    "    plt.ylabel(\"Fixation probability\")\n",
    "    plt.legend();"
   ]
  },
  {
   "cell_type": "code",
   "execution_count": 226,
   "metadata": {
    "collapsed": false
   },
   "outputs": [
    {
     "data": {
      "image/png": "[encoded data removed]",
      "text/plain": [
       "<matplotlib.figure.Figure at 0x11a219320>"
      ]
     },
     "metadata": {},
     "output_type": "display_data"
    }
   ],
   "source": [
    "plt.figure()\n",
    "\n",
    "strategies = (\"Defector\", \"Cooperator\")\n",
    "ns = range(2, 50)\n",
    "invader = [fixation(strategies, n) for n in ns]   \n",
    "resistor = [fixation(strategies, n, n - 1) for n in ns] \n",
    "plt.title(\"{} vs population of {}\".format(*strategies))\n",
    "plt.scatter(ns, invader, label=\"$i=1$\")\n",
    "plt.scatter(ns, resistor, color=\"red\", label=\"$i=N-1$\")\n",
    "\n",
    "plt.xlabel(\"Population size $N$\")\n",
    "plt.ylabel(\"Fixation probability\")\n",
    "plt.ylim(0, 1)\n",
    "plt.xlim(min(ns), max(ns))\n",
    "plt.legend(loc=5);"
   ]
  },
  {
   "cell_type": "code",
   "execution_count": 225,
   "metadata": {
    "collapsed": false
   },
   "outputs": [
    {
     "data": {
      "image/png": "[encoded data removed]",
      "text/plain": [
       "<matplotlib.figure.Figure at 0x11a219d68>"
      ]
     },
     "metadata": {},
     "output_type": "display_data"
    }
   ],
   "source": [
    "plt.figure()\n",
    "\n",
    "\n",
    "strategies = (\"Defector\", \"Tit For Tat\")\n",
    "ns = range(2, 50)\n",
    "invader = [fixation(strategies, n) for n in ns]   \n",
    "resistor = [fixation(strategies, n, n - 1) for n in ns] \n",
    "plt.title(\"{} vs population of {}\".format(*strategies))\n",
    "plt.scatter(ns, invader, label=\"$i=1$\")\n",
    "plt.scatter(ns, resistor, color=\"red\", label=\"$i=N-1$\")\n",
    "\n",
    "plt.xlabel(\"$N$\")\n",
    "plt.ylabel(\"Fixation probability\")\n",
    "plt.ylim(0, 1)\n",
    "plt.xlim(min(ns), max(ns))\n",
    "plt.legend(loc=5);"
   ]
  },
  {
   "cell_type": "code",
   "execution_count": 44,
   "metadata": {
    "collapsed": false
   },
   "outputs": [
    {
     "data": {
      "text/plain": [
       "0.135"
      ]
     },
     "execution_count": 44,
     "metadata": {},
     "output_type": "execute_result"
    }
   ],
   "source": [
    "players = [axl.Defector, axl.Cooperator]\n",
    "N, repetitions, turns, fixation_count = 10, 200, 50, 0\n",
    "for seed in range(repetitions):\n",
    "    initial_population = [players[0]()] + [players[1]()] * (N - 1)\n",
    "    mp = axl.MoranProcess(initial_population, turns=turns)\n",
    "    mp.play()\n",
    "    if mp.winning_strategy_name == \"Defector\":\n",
    "        fixation_count += 1\n",
    "fixation_count / repetitions"
   ]
  },
  {
   "cell_type": "code",
   "execution_count": null,
   "metadata": {
    "collapsed": true
   },
   "outputs": [],
   "source": []
  }
 ],
 "metadata": {
  "anaconda-cloud": {},
  "kernelspec": {
   "display_name": "Python [default]",
   "language": "python",
   "name": "python3"
  },
  "language_info": {
   "codemirror_mode": {
    "name": "ipython",
    "version": 3
   },
   "file_extension": ".py",
   "mimetype": "text/x-python",
   "name": "python",
   "nbconvert_exporter": "python",
   "pygments_lexer": "ipython3",
   "version": "3.5.2"
  }
 },
 "nbformat": 4,
 "nbformat_minor": 1
}
